{
 "cells": [
  {
   "cell_type": "code",
   "execution_count": 1,
   "id": "75a7045d",
   "metadata": {},
   "outputs": [],
   "source": [
    "import numpy as np\n",
    "import seaborn as sns\n",
    "import scipy.stats as stats\n",
    "import pandas as pd\n",
    "import matplotlib.pyplot as plt\n",
    "from pydataset import data "
   ]
  },
  {
   "cell_type": "markdown",
   "id": "f5526f4b",
   "metadata": {},
   "source": [
    "## Exercise"
   ]
  },
  {
   "cell_type": "markdown",
   "id": "12b3e354",
   "metadata": {},
   "source": [
    "### 1. Answer with the type of test you would use (assume normal distribution):\n",
    "\n",
    "- Is there a difference in grades of students on the second floor compared to grades of all students?\n",
    "\n",
    "#### A: one sample, one sample t-test, \n",
    "- Are adults who drink milk taller than adults who dont drink milk?\n",
    "\n",
    "#### A: two sample one tail \n",
    "- Is the the price of gas higher in texas or in new mexico?\n",
    "\n",
    "#### A:  two sample one tail \n",
    "- Are there differences in stress levels between students who take data science vs students who take web development vs students who take cloud academy?\n",
    "#### A: k sample? two tail independent t-test"
   ]
  },
  {
   "cell_type": "markdown",
   "id": "9bd916e9",
   "metadata": {},
   "source": [
    "### 2. Ace Realty wants to determine whether the average time it takes to sell homes is different for its two offices. A sample of 40 sales from office #1 revealed a mean of 90 days and a standard deviation of 15 days. A sample of 50 sales from office #2 revealed a mean of 100 days and a standard deviation of 20 days. Use a .05 level of significance."
   ]
  },
  {
   "cell_type": "code",
   "execution_count": 3,
   "id": "1b266aa2",
   "metadata": {},
   "outputs": [],
   "source": [
    "a = 0.05"
   ]
  },
  {
   "cell_type": "markdown",
   "id": "e94658f5",
   "metadata": {},
   "source": [
    "H$_0$ : Average time it takes to sell homes is not different for two offices\n",
    "\n",
    "H$_a$ : Average time it takes to sell homes is different for two offices"
   ]
  },
  {
   "cell_type": "code",
   "execution_count": 11,
   "id": "8c2f23bb",
   "metadata": {},
   "outputs": [],
   "source": [
    "p_value = stats.ttest_ind_from_stats(90, 15, 40, 100, 20, 50)[1]"
   ]
  },
  {
   "cell_type": "code",
   "execution_count": 15,
   "id": "77c66904",
   "metadata": {},
   "outputs": [
    {
     "data": {
      "text/plain": [
       "True"
      ]
     },
     "execution_count": 15,
     "metadata": {},
     "output_type": "execute_result"
    }
   ],
   "source": [
    "p_value  < a"
   ]
  },
  {
   "cell_type": "code",
   "execution_count": null,
   "id": "3ea3b372",
   "metadata": {},
   "outputs": [],
   "source": []
  },
  {
   "cell_type": "code",
   "execution_count": null,
   "id": "72ab68fc",
   "metadata": {},
   "outputs": [],
   "source": []
  },
  {
   "cell_type": "code",
   "execution_count": null,
   "id": "618a7af3",
   "metadata": {},
   "outputs": [],
   "source": []
  },
  {
   "cell_type": "code",
   "execution_count": null,
   "id": "048f3785",
   "metadata": {},
   "outputs": [],
   "source": []
  },
  {
   "cell_type": "code",
   "execution_count": null,
   "id": "6cd708a4",
   "metadata": {},
   "outputs": [],
   "source": []
  },
  {
   "cell_type": "markdown",
   "id": "4c3712d5",
   "metadata": {},
   "source": [
    "### 3. Load the mpg dataset and use it to answer the following questions:\n",
    "- Is there a difference in fuel-efficiency in cars from 2008 vs 1999?\n",
    "- Are compact cars more fuel-efficient than the average car?\n",
    "- Do manual cars get better gas mileage than automatic cars?"
   ]
  },
  {
   "cell_type": "markdown",
   "id": "1b76fcff",
   "metadata": {},
   "source": [
    "Is there a difference in fuel-efficiency in cars from 2008 vs 1999?"
   ]
  },
  {
   "cell_type": "code",
   "execution_count": 13,
   "id": "edf34a90",
   "metadata": {},
   "outputs": [],
   "source": [
    "mpg = data('mpg')"
   ]
  },
  {
   "cell_type": "code",
   "execution_count": 32,
   "id": "57d3f3ba",
   "metadata": {},
   "outputs": [
    {
     "data": {
      "text/html": [
       "<div>\n",
       "<style scoped>\n",
       "    .dataframe tbody tr th:only-of-type {\n",
       "        vertical-align: middle;\n",
       "    }\n",
       "\n",
       "    .dataframe tbody tr th {\n",
       "        vertical-align: top;\n",
       "    }\n",
       "\n",
       "    .dataframe thead th {\n",
       "        text-align: right;\n",
       "    }\n",
       "</style>\n",
       "<table border=\"1\" class=\"dataframe\">\n",
       "  <thead>\n",
       "    <tr style=\"text-align: right;\">\n",
       "      <th></th>\n",
       "      <th>manufacturer</th>\n",
       "      <th>model</th>\n",
       "      <th>displ</th>\n",
       "      <th>year</th>\n",
       "      <th>cyl</th>\n",
       "      <th>trans</th>\n",
       "      <th>drv</th>\n",
       "      <th>cty</th>\n",
       "      <th>hwy</th>\n",
       "      <th>fl</th>\n",
       "      <th>class</th>\n",
       "      <th>avg_fuel_econ</th>\n",
       "    </tr>\n",
       "  </thead>\n",
       "  <tbody>\n",
       "    <tr>\n",
       "      <th>1</th>\n",
       "      <td>audi</td>\n",
       "      <td>a4</td>\n",
       "      <td>1.8</td>\n",
       "      <td>1999</td>\n",
       "      <td>4</td>\n",
       "      <td>auto(l5)</td>\n",
       "      <td>f</td>\n",
       "      <td>18</td>\n",
       "      <td>29</td>\n",
       "      <td>p</td>\n",
       "      <td>compact</td>\n",
       "      <td>23.5</td>\n",
       "    </tr>\n",
       "    <tr>\n",
       "      <th>2</th>\n",
       "      <td>audi</td>\n",
       "      <td>a4</td>\n",
       "      <td>1.8</td>\n",
       "      <td>1999</td>\n",
       "      <td>4</td>\n",
       "      <td>manual(m5)</td>\n",
       "      <td>f</td>\n",
       "      <td>21</td>\n",
       "      <td>29</td>\n",
       "      <td>p</td>\n",
       "      <td>compact</td>\n",
       "      <td>25.0</td>\n",
       "    </tr>\n",
       "    <tr>\n",
       "      <th>3</th>\n",
       "      <td>audi</td>\n",
       "      <td>a4</td>\n",
       "      <td>2.0</td>\n",
       "      <td>2008</td>\n",
       "      <td>4</td>\n",
       "      <td>manual(m6)</td>\n",
       "      <td>f</td>\n",
       "      <td>20</td>\n",
       "      <td>31</td>\n",
       "      <td>p</td>\n",
       "      <td>compact</td>\n",
       "      <td>25.5</td>\n",
       "    </tr>\n",
       "    <tr>\n",
       "      <th>4</th>\n",
       "      <td>audi</td>\n",
       "      <td>a4</td>\n",
       "      <td>2.0</td>\n",
       "      <td>2008</td>\n",
       "      <td>4</td>\n",
       "      <td>auto(av)</td>\n",
       "      <td>f</td>\n",
       "      <td>21</td>\n",
       "      <td>30</td>\n",
       "      <td>p</td>\n",
       "      <td>compact</td>\n",
       "      <td>25.5</td>\n",
       "    </tr>\n",
       "    <tr>\n",
       "      <th>5</th>\n",
       "      <td>audi</td>\n",
       "      <td>a4</td>\n",
       "      <td>2.8</td>\n",
       "      <td>1999</td>\n",
       "      <td>6</td>\n",
       "      <td>auto(l5)</td>\n",
       "      <td>f</td>\n",
       "      <td>16</td>\n",
       "      <td>26</td>\n",
       "      <td>p</td>\n",
       "      <td>compact</td>\n",
       "      <td>21.0</td>\n",
       "    </tr>\n",
       "  </tbody>\n",
       "</table>\n",
       "</div>"
      ],
      "text/plain": [
       "  manufacturer model  displ  year  cyl       trans drv  cty  hwy fl    class  \\\n",
       "1         audi    a4    1.8  1999    4    auto(l5)   f   18   29  p  compact   \n",
       "2         audi    a4    1.8  1999    4  manual(m5)   f   21   29  p  compact   \n",
       "3         audi    a4    2.0  2008    4  manual(m6)   f   20   31  p  compact   \n",
       "4         audi    a4    2.0  2008    4    auto(av)   f   21   30  p  compact   \n",
       "5         audi    a4    2.8  1999    6    auto(l5)   f   16   26  p  compact   \n",
       "\n",
       "   avg_fuel_econ  \n",
       "1           23.5  \n",
       "2           25.0  \n",
       "3           25.5  \n",
       "4           25.5  \n",
       "5           21.0  "
      ]
     },
     "execution_count": 32,
     "metadata": {},
     "output_type": "execute_result"
    }
   ],
   "source": [
    "mpg.head()"
   ]
  },
  {
   "cell_type": "markdown",
   "id": "67fd3911",
   "metadata": {},
   "source": [
    "H$_0$ : There is no difference in fuel-efficiency in cars from 2008 vrs 1999\n",
    "\n",
    "H$_a$ : There is a difference in fuel-efficiency in cars from 2008 vrs 1999"
   ]
  },
  {
   "cell_type": "code",
   "execution_count": 30,
   "id": "b27938f6",
   "metadata": {},
   "outputs": [],
   "source": [
    "mpg[\"avg_fuel_econ\"] = (mpg['cty'] + mpg['hwy']) / 2"
   ]
  },
  {
   "cell_type": "code",
   "execution_count": 34,
   "id": "2c5200c5",
   "metadata": {},
   "outputs": [],
   "source": [
    "old_cars = mpg[mpg.year == 1999].avg_fuel_econ\n",
    "new_cars = mpg[mpg.year != 1999].avg_fuel_econ"
   ]
  },
  {
   "cell_type": "code",
   "execution_count": 39,
   "id": "1156f68b",
   "metadata": {},
   "outputs": [],
   "source": [
    "_, levene_p = stats.levene( new_cars, old_cars)"
   ]
  },
  {
   "cell_type": "code",
   "execution_count": 38,
   "id": "041ebd0b",
   "metadata": {},
   "outputs": [
    {
     "data": {
      "text/plain": [
       "False"
      ]
     },
     "execution_count": 38,
     "metadata": {},
     "output_type": "execute_result"
    }
   ],
   "source": [
    "levene_p < a"
   ]
  },
  {
   "cell_type": "code",
   "execution_count": 41,
   "id": "dfa846a6",
   "metadata": {},
   "outputs": [],
   "source": [
    "t_stat, p_val = stats.ttest_ind(old_cars, new_cars, equal_var=True)"
   ]
  },
  {
   "cell_type": "code",
   "execution_count": 43,
   "id": "84314d79",
   "metadata": {
    "scrolled": true
   },
   "outputs": [
    {
     "data": {
      "image/png": "[encoded data removed]",
      "text/plain": [
       "<Figure size 640x480 with 1 Axes>"
      ]
     },
     "metadata": {},
     "output_type": "display_data"
    }
   ],
   "source": [
    "plt.hist(old_cars);"
   ]
  },
  {
   "cell_type": "code",
   "execution_count": 45,
   "id": "17c64448",
   "metadata": {
    "scrolled": true
   },
   "outputs": [
    {
     "data": {
      "image/png": "[encoded data removed]",
      "text/plain": [
       "<Figure size 640x480 with 1 Axes>"
      ]
     },
     "metadata": {},
     "output_type": "display_data"
    }
   ],
   "source": [
    "plt.hist(new_cars);"
   ]
  },
  {
   "cell_type": "code",
   "execution_count": 61,
   "id": "e32fd241",
   "metadata": {},
   "outputs": [
    {
     "data": {
      "text/plain": [
       "0.21960177245940962"
      ]
     },
     "execution_count": 61,
     "metadata": {},
     "output_type": "execute_result"
    }
   ],
   "source": [
    "p_val < a\n",
    "t_stat"
   ]
  },
  {
   "cell_type": "markdown",
   "id": "05fdf9c7",
   "metadata": {},
   "source": [
    "### Are compact cars more fuel-efficient than the average car?"
   ]
  },
  {
   "cell_type": "code",
   "execution_count": 48,
   "id": "74d699b7",
   "metadata": {},
   "outputs": [],
   "source": [
    "mpg[\"is_compact\"] = mpg[\"class\"].str.startswith(\"compact\")"
   ]
  },
  {
   "cell_type": "code",
   "execution_count": 50,
   "id": "7df7c714",
   "metadata": {},
   "outputs": [],
   "source": [
    "compact = mpg[mpg.is_compact == True].avg_fuel_econ\n",
    "not_compact = mpg[mpg.is_compact != True].avg_fuel_econ"
   ]
  },
  {
   "cell_type": "markdown",
   "id": "31c8516e",
   "metadata": {},
   "source": [
    "H$_0$ : There is no difference in fuel-efficiency in compact cars vrs non compact cars\n",
    "\n",
    "H$_a$ : There is a difference in fuel-efficiency in compact cars vrs non compact cars"
   ]
  },
  {
   "cell_type": "code",
   "execution_count": 55,
   "id": "cd81c5bf",
   "metadata": {},
   "outputs": [],
   "source": [
    "_, levene_p = stats.levene( new_cars, old_cars)"
   ]
  },
  {
   "cell_type": "code",
   "execution_count": 56,
   "id": "14494ed5",
   "metadata": {},
   "outputs": [
    {
     "data": {
      "text/plain": [
       "False"
      ]
     },
     "execution_count": 56,
     "metadata": {},
     "output_type": "execute_result"
    }
   ],
   "source": [
    "levene_p < a"
   ]
  },
  {
   "cell_type": "code",
   "execution_count": 57,
   "id": "3ad75b14",
   "metadata": {},
   "outputs": [],
   "source": [
    "t_stat, p_val = stats.ttest_ind(old_cars, new_cars, equal_var=True)"
   ]
  },
  {
   "cell_type": "code",
   "execution_count": 72,
   "id": "bd5b945a",
   "metadata": {},
   "outputs": [
    {
     "data": {
      "text/plain": [
       "True"
      ]
     },
     "execution_count": 72,
     "metadata": {},
     "output_type": "execute_result"
    }
   ],
   "source": [
    "(p_val / 2) < a"
   ]
  },
  {
   "cell_type": "markdown",
   "id": "b932e563",
   "metadata": {},
   "source": [
    "### Do manual cars get better gas mileage than automatic cars?"
   ]
  },
  {
   "cell_type": "markdown",
   "id": "a5b513ec",
   "metadata": {},
   "source": [
    "H$_0$ : There is no difference in highway mileage in auto and manual vehicle\n",
    "\n",
    "H$_a$ : There is a difference in highway mileage in auto and manual vehicle"
   ]
  },
  {
   "cell_type": "code",
   "execution_count": 63,
   "id": "565c95ab",
   "metadata": {},
   "outputs": [],
   "source": [
    "mpg[\"auto_transmission\"] = mpg.trans.str.startswith(\"auto\")"
   ]
  },
  {
   "cell_type": "code",
   "execution_count": 67,
   "id": "2d818bd8",
   "metadata": {},
   "outputs": [],
   "source": [
    "auto_hwy = mpg[mpg['auto_transmission'] == True].hwy\n",
    "manual_hwy = mpg[mpg['auto_transmission'] != True].hwy"
   ]
  },
  {
   "cell_type": "code",
   "execution_count": 68,
   "id": "10d5b352",
   "metadata": {},
   "outputs": [],
   "source": [
    "_, levene_p = stats.levene(auto_hwy, manual_hwy)"
   ]
  },
  {
   "cell_type": "code",
   "execution_count": 69,
   "id": "54616309",
   "metadata": {},
   "outputs": [
    {
     "data": {
      "text/plain": [
       "False"
      ]
     },
     "execution_count": 69,
     "metadata": {},
     "output_type": "execute_result"
    }
   ],
   "source": [
    "levene_p < a"
   ]
  },
  {
   "cell_type": "code",
   "execution_count": 70,
   "id": "d067a4b6",
   "metadata": {},
   "outputs": [],
   "source": [
    "t_stat, p_val = stats.ttest_ind(manual_hwy, auto_hwy, equal_var=True)"
   ]
  },
  {
   "cell_type": "code",
   "execution_count": 71,
   "id": "89e352a6",
   "metadata": {},
   "outputs": [
    {
     "data": {
      "text/plain": [
       "True"
      ]
     },
     "execution_count": 71,
     "metadata": {},
     "output_type": "execute_result"
    }
   ],
   "source": [
    "p_val < a"
   ]
  }
 ],
 "metadata": {
  "kernelspec": {
   "display_name": "Python 3 (ipykernel)",
   "language": "python",
   "name": "python3"
  },
  "language_info": {
   "codemirror_mode": {
    "name": "ipython",
    "version": 3
   },
   "file_extension": ".py",
   "mimetype": "text/x-python",
   "name": "python",
   "nbconvert_exporter": "python",
   "pygments_lexer": "ipython3",
   "version": "3.9.13"
  }
 },
 "nbformat": 4,
 "nbformat_minor": 5
}

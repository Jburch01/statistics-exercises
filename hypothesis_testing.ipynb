{
 "cells": [
  {
   "cell_type": "code",
   "execution_count": 72,
   "id": "75a7045d",
   "metadata": {},
   "outputs": [],
   "source": [
    "import numpy as np\n",
    "import seaborn as sns\n",
    "import scipy.stats as stats\n",
    "import pandas as pd\n",
    "import matplotlib.pyplot as plt\n",
    "from pydataset import data "
   ]
  },
  {
   "cell_type": "markdown",
   "id": "f5526f4b",
   "metadata": {},
   "source": [
    "## Exercise hypothesis testing\n"
   ]
  },
  {
   "cell_type": "markdown",
   "id": "12b3e354",
   "metadata": {},
   "source": [
    "### 1. Answer with the type of test you would use (assume normal distribution):\n",
    "\n",
    "- Is there a difference in grades of students on the second floor compared to grades of all students?\n",
    "\n",
    "#### A: one sample, one sample t-test,  two tail\n",
    "- Are adults who drink milk taller than adults who dont drink milk?\n",
    "\n",
    "#### A: two sample one tail independent t-test\n",
    "\n",
    "- Is the the price of gas higher in texas or in new mexico?\n",
    "\n",
    "#### A:  two sample one tail independent t-test\n",
    "\n",
    "- Are there differences in stress levels between students who take data science vs students who take web development vs students who take cloud academy?\n",
    "#### A:  anova test "
   ]
  },
  {
   "cell_type": "markdown",
   "id": "9bd916e9",
   "metadata": {},
   "source": [
    "### 2. Ace Realty wants to determine whether the average time it takes to sell homes is different for its two offices. A sample of 40 sales from office #1 revealed a mean of 90 days and a standard deviation of 15 days. A sample of 50 sales from office #2 revealed a mean of 100 days and a standard deviation of 20 days. Use a .05 level of significance."
   ]
  },
  {
   "cell_type": "code",
   "execution_count": 3,
   "id": "1b266aa2",
   "metadata": {},
   "outputs": [],
   "source": [
    "a = 0.05"
   ]
  },
  {
   "cell_type": "markdown",
   "id": "e94658f5",
   "metadata": {},
   "source": [
    "H$_0$ : Average time it takes to sell homes is not different for two offices\n",
    "\n",
    "H$_a$ : Average time it takes to sell homes is different for two offices"
   ]
  },
  {
   "cell_type": "code",
   "execution_count": 11,
   "id": "8c2f23bb",
   "metadata": {},
   "outputs": [],
   "source": [
    "p_value = stats.ttest_ind_from_stats(90, 15, 40, 100, 20, 50)[1]"
   ]
  },
  {
   "cell_type": "code",
   "execution_count": 15,
   "id": "77c66904",
   "metadata": {},
   "outputs": [
    {
     "data": {
      "text/plain": [
       "True"
      ]
     },
     "execution_count": 15,
     "metadata": {},
     "output_type": "execute_result"
    }
   ],
   "source": [
    "p_value  < a"
   ]
  },
  {
   "cell_type": "code",
   "execution_count": null,
   "id": "3ea3b372",
   "metadata": {},
   "outputs": [],
   "source": []
  },
  {
   "cell_type": "markdown",
   "id": "4c3712d5",
   "metadata": {},
   "source": [
    "### 3. Load the mpg dataset and use it to answer the following questions:\n",
    "- Is there a difference in fuel-efficiency in cars from 2008 vs 1999?\n",
    "- Are compact cars more fuel-efficient than the average car?\n",
    "- Do manual cars get better gas mileage than automatic cars?"
   ]
  },
  {
   "cell_type": "markdown",
   "id": "0c960861",
   "metadata": {},
   "source": [
    "#### Is there a difference in fuel-efficiency in cars from 2008 vs 1999?"
   ]
  },
  {
   "cell_type": "code",
   "execution_count": 13,
   "id": "edf34a90",
   "metadata": {},
   "outputs": [],
   "source": [
    "mpg = data('mpg')"
   ]
  },
  {
   "cell_type": "code",
   "execution_count": 81,
   "id": "57d3f3ba",
   "metadata": {},
   "outputs": [
    {
     "data": {
      "text/html": [
       "<div>\n",
       "<style scoped>\n",
       "    .dataframe tbody tr th:only-of-type {\n",
       "        vertical-align: middle;\n",
       "    }\n",
       "\n",
       "    .dataframe tbody tr th {\n",
       "        vertical-align: top;\n",
       "    }\n",
       "\n",
       "    .dataframe thead th {\n",
       "        text-align: right;\n",
       "    }\n",
       "</style>\n",
       "<table border=\"1\" class=\"dataframe\">\n",
       "  <thead>\n",
       "    <tr style=\"text-align: right;\">\n",
       "      <th></th>\n",
       "      <th>manufacturer</th>\n",
       "      <th>model</th>\n",
       "      <th>displ</th>\n",
       "      <th>year</th>\n",
       "      <th>cyl</th>\n",
       "      <th>trans</th>\n",
       "      <th>drv</th>\n",
       "      <th>cty</th>\n",
       "      <th>hwy</th>\n",
       "      <th>fl</th>\n",
       "      <th>class</th>\n",
       "      <th>avg_fuel_econ</th>\n",
       "      <th>is_compact</th>\n",
       "      <th>auto_transmission</th>\n",
       "    </tr>\n",
       "  </thead>\n",
       "  <tbody>\n",
       "    <tr>\n",
       "      <th>1</th>\n",
       "      <td>audi</td>\n",
       "      <td>a4</td>\n",
       "      <td>1.8</td>\n",
       "      <td>1999</td>\n",
       "      <td>4</td>\n",
       "      <td>auto(l5)</td>\n",
       "      <td>f</td>\n",
       "      <td>18</td>\n",
       "      <td>29</td>\n",
       "      <td>p</td>\n",
       "      <td>compact</td>\n",
       "      <td>22.212766</td>\n",
       "      <td>True</td>\n",
       "      <td>True</td>\n",
       "    </tr>\n",
       "    <tr>\n",
       "      <th>2</th>\n",
       "      <td>audi</td>\n",
       "      <td>a4</td>\n",
       "      <td>1.8</td>\n",
       "      <td>1999</td>\n",
       "      <td>4</td>\n",
       "      <td>manual(m5)</td>\n",
       "      <td>f</td>\n",
       "      <td>21</td>\n",
       "      <td>29</td>\n",
       "      <td>p</td>\n",
       "      <td>compact</td>\n",
       "      <td>24.360000</td>\n",
       "      <td>True</td>\n",
       "      <td>False</td>\n",
       "    </tr>\n",
       "    <tr>\n",
       "      <th>3</th>\n",
       "      <td>audi</td>\n",
       "      <td>a4</td>\n",
       "      <td>2.0</td>\n",
       "      <td>2008</td>\n",
       "      <td>4</td>\n",
       "      <td>manual(m6)</td>\n",
       "      <td>f</td>\n",
       "      <td>20</td>\n",
       "      <td>31</td>\n",
       "      <td>p</td>\n",
       "      <td>compact</td>\n",
       "      <td>24.313725</td>\n",
       "      <td>True</td>\n",
       "      <td>False</td>\n",
       "    </tr>\n",
       "    <tr>\n",
       "      <th>4</th>\n",
       "      <td>audi</td>\n",
       "      <td>a4</td>\n",
       "      <td>2.0</td>\n",
       "      <td>2008</td>\n",
       "      <td>4</td>\n",
       "      <td>auto(av)</td>\n",
       "      <td>f</td>\n",
       "      <td>21</td>\n",
       "      <td>30</td>\n",
       "      <td>p</td>\n",
       "      <td>compact</td>\n",
       "      <td>24.705882</td>\n",
       "      <td>True</td>\n",
       "      <td>True</td>\n",
       "    </tr>\n",
       "    <tr>\n",
       "      <th>5</th>\n",
       "      <td>audi</td>\n",
       "      <td>a4</td>\n",
       "      <td>2.8</td>\n",
       "      <td>1999</td>\n",
       "      <td>6</td>\n",
       "      <td>auto(l5)</td>\n",
       "      <td>f</td>\n",
       "      <td>16</td>\n",
       "      <td>26</td>\n",
       "      <td>p</td>\n",
       "      <td>compact</td>\n",
       "      <td>19.809524</td>\n",
       "      <td>True</td>\n",
       "      <td>True</td>\n",
       "    </tr>\n",
       "  </tbody>\n",
       "</table>\n",
       "</div>"
      ],
      "text/plain": [
       "  manufacturer model  displ  year  cyl       trans drv  cty  hwy fl    class  \\\n",
       "1         audi    a4    1.8  1999    4    auto(l5)   f   18   29  p  compact   \n",
       "2         audi    a4    1.8  1999    4  manual(m5)   f   21   29  p  compact   \n",
       "3         audi    a4    2.0  2008    4  manual(m6)   f   20   31  p  compact   \n",
       "4         audi    a4    2.0  2008    4    auto(av)   f   21   30  p  compact   \n",
       "5         audi    a4    2.8  1999    6    auto(l5)   f   16   26  p  compact   \n",
       "\n",
       "   avg_fuel_econ  is_compact  auto_transmission  \n",
       "1      22.212766        True               True  \n",
       "2      24.360000        True              False  \n",
       "3      24.313725        True              False  \n",
       "4      24.705882        True               True  \n",
       "5      19.809524        True               True  "
      ]
     },
     "execution_count": 81,
     "metadata": {},
     "output_type": "execute_result"
    }
   ],
   "source": [
    "mpg.head()"
   ]
  },
  {
   "cell_type": "markdown",
   "id": "ffcb2121",
   "metadata": {},
   "source": [
    "H$_0$ : There is no difference in fuel-efficiency in cars from 2008 vrs 1999\n",
    "\n",
    "H$_a$ : There is a difference in fuel-efficiency in cars from 2008 vrs 1999"
   ]
  },
  {
   "cell_type": "code",
   "execution_count": 77,
   "id": "b27938f6",
   "metadata": {},
   "outputs": [],
   "source": [
    "mpg[\"avg_fuel_econ\"] = stats.hmean((mpg['cty'], mpg['hwy'])) "
   ]
  },
  {
   "cell_type": "code",
   "execution_count": 78,
   "id": "2c5200c5",
   "metadata": {},
   "outputs": [],
   "source": [
    "old_cars = mpg[mpg.year == 1999].avg_fuel_econ\n",
    "new_cars = mpg[mpg.year != 1999].avg_fuel_econ"
   ]
  },
  {
   "cell_type": "code",
   "execution_count": 79,
   "id": "1156f68b",
   "metadata": {},
   "outputs": [],
   "source": [
    "_, levene_p = stats.levene( new_cars, old_cars)"
   ]
  },
  {
   "cell_type": "code",
   "execution_count": 80,
   "id": "041ebd0b",
   "metadata": {},
   "outputs": [
    {
     "data": {
      "text/plain": [
       "False"
      ]
     },
     "execution_count": 80,
     "metadata": {},
     "output_type": "execute_result"
    }
   ],
   "source": [
    "levene_p < a"
   ]
  },
  {
   "cell_type": "code",
   "execution_count": 83,
   "id": "dfa846a6",
   "metadata": {},
   "outputs": [],
   "source": [
    "t_stat, p_val = stats.ttest_ind(old_cars, new_cars)"
   ]
  },
  {
   "cell_type": "code",
   "execution_count": 43,
   "id": "84314d79",
   "metadata": {
    "scrolled": true
   },
   "outputs": [
    {
     "data": {
      "image/png": "[encoded data removed]",
      "text/plain": [
       "<Figure size 640x480 with 1 Axes>"
      ]
     },
     "metadata": {},
     "output_type": "display_data"
    }
   ],
   "source": [
    "plt.hist(old_cars);"
   ]
  },
  {
   "cell_type": "code",
   "execution_count": 45,
   "id": "17c64448",
   "metadata": {
    "scrolled": true
   },
   "outputs": [
    {
     "data": {
      "image/png": "[encoded data removed]",
      "text/plain": [
       "<Figure size 640x480 with 1 Axes>"
      ]
     },
     "metadata": {},
     "output_type": "display_data"
    }
   ],
   "source": [
    "plt.hist(new_cars);"
   ]
  },
  {
   "cell_type": "code",
   "execution_count": 84,
   "id": "e32fd241",
   "metadata": {},
   "outputs": [
    {
     "data": {
      "text/plain": [
       "False"
      ]
     },
     "execution_count": 84,
     "metadata": {},
     "output_type": "execute_result"
    }
   ],
   "source": [
    "p_val < a\n"
   ]
  },
  {
   "cell_type": "markdown",
   "id": "ce726fb3",
   "metadata": {},
   "source": [
    "### Are compact cars more fuel-efficient than the average car?"
   ]
  },
  {
   "cell_type": "code",
   "execution_count": 48,
   "id": "74d699b7",
   "metadata": {},
   "outputs": [],
   "source": [
    "mpg[\"is_compact\"] = mpg[\"class\"].str.startswith(\"compact\")"
   ]
  },
  {
   "cell_type": "code",
   "execution_count": 50,
   "id": "7df7c714",
   "metadata": {},
   "outputs": [],
   "source": [
    "compact = mpg[mpg.is_compact == True].avg_fuel_econ\n",
    "not_compact = mpg[mpg.is_compact != True].avg_fuel_econ"
   ]
  },
  {
   "cell_type": "markdown",
   "id": "d92e1df0",
   "metadata": {},
   "source": [
    "H$_0$ : There is no difference in fuel-efficiency in compact cars vrs non compact cars\n",
    "\n",
    "H$_a$ : There is a difference in fuel-efficiency in compact cars vrs non compact cars"
   ]
  },
  {
   "cell_type": "code",
   "execution_count": 55,
   "id": "cd81c5bf",
   "metadata": {},
   "outputs": [],
   "source": [
    "_, levene_p = stats.levene( new_cars, old_cars)"
   ]
  },
  {
   "cell_type": "code",
   "execution_count": 56,
   "id": "14494ed5",
   "metadata": {},
   "outputs": [
    {
     "data": {
      "text/plain": [
       "False"
      ]
     },
     "execution_count": 56,
     "metadata": {},
     "output_type": "execute_result"
    }
   ],
   "source": [
    "levene_p < a"
   ]
  },
  {
   "cell_type": "code",
   "execution_count": 85,
   "id": "3ad75b14",
   "metadata": {},
   "outputs": [],
   "source": [
    "t_stat, p_val = stats.ttest_ind(compact, not_compact, equal_var=True)"
   ]
  },
  {
   "cell_type": "code",
   "execution_count": 88,
   "id": "01c6f411",
   "metadata": {},
   "outputs": [
    {
     "data": {
      "text/plain": [
       "True"
      ]
     },
     "execution_count": 88,
     "metadata": {},
     "output_type": "execute_result"
    }
   ],
   "source": [
    "((p_val / 2) < a) and (t_stat > 0)"
   ]
  },
  {
   "cell_type": "markdown",
   "id": "83f86ed4",
   "metadata": {},
   "source": [
    "### Do manual cars get better gas mileage than automatic cars?"
   ]
  },
  {
   "cell_type": "markdown",
   "id": "32f34ce0",
   "metadata": {},
   "source": [
    "H$_0$ : There is no difference in highway mileage in auto and manual vehicle\n",
    "\n",
    "H$_a$ : There is a difference in highway mileage in auto and manual vehicle"
   ]
  },
  {
   "cell_type": "code",
   "execution_count": 63,
   "id": "7467baa8",
   "metadata": {},
   "outputs": [],
   "source": [
    "mpg[\"auto_transmission\"] = mpg.trans.str.startswith(\"auto\")"
   ]
  },
  {
   "cell_type": "code",
   "execution_count": 91,
   "id": "d1eaa6ed",
   "metadata": {},
   "outputs": [],
   "source": [
    "auto = mpg[mpg['auto_transmission'] == True].avg_fuel_econ\n",
    "manual = mpg[mpg['auto_transmission'] != True].avg_fuel_econ"
   ]
  },
  {
   "cell_type": "code",
   "execution_count": 92,
   "id": "0f460347",
   "metadata": {},
   "outputs": [],
   "source": [
    "_, levene_p = stats.levene(auto, manual)"
   ]
  },
  {
   "cell_type": "code",
   "execution_count": 93,
   "id": "c87e52d5",
   "metadata": {},
   "outputs": [
    {
     "data": {
      "text/plain": [
       "False"
      ]
     },
     "execution_count": 93,
     "metadata": {},
     "output_type": "execute_result"
    }
   ],
   "source": [
    "levene_p < a"
   ]
  },
  {
   "cell_type": "code",
   "execution_count": 96,
   "id": "35a40cd4",
   "metadata": {},
   "outputs": [],
   "source": [
    "t_stat, p_val = stats.ttest_ind(manual, auto, equal_var=True)"
   ]
  },
  {
   "cell_type": "code",
   "execution_count": 97,
   "id": "a3ad3087",
   "metadata": {},
   "outputs": [
    {
     "data": {
      "text/plain": [
       "True"
      ]
     },
     "execution_count": 97,
     "metadata": {},
     "output_type": "execute_result"
    }
   ],
   "source": [
    "p_val < a"
   ]
  },
  {
   "cell_type": "markdown",
   "id": "45330f88",
   "metadata": {},
   "source": [
    "---------------------------------------------------------------------------------------------------------------"
   ]
  },
  {
   "cell_type": "markdown",
   "id": "d926dd23",
   "metadata": {},
   "source": [
    "# Correlation"
   ]
  },
  {
   "cell_type": "markdown",
   "id": "dc0dca17",
   "metadata": {},
   "source": [
    "### Exercises"
   ]
  },
  {
   "cell_type": "markdown",
   "id": "392a26c3",
   "metadata": {},
   "source": [
    "#### 1. Answer with the type of stats test you would use (assume normal distribution):\n",
    "- Is there a relationship between the length of your arm and the length of your foot?\n",
    "- Do guys and gals quit their jobs at the same rate?\n",
    "- Does the length of time of the lecture correlate with a students grade?"
   ]
  },
  {
   "cell_type": "code",
   "execution_count": null,
   "id": "3cddbac2",
   "metadata": {},
   "outputs": [],
   "source": [
    "# 1.1 continuous vrs continuous pearsonsr for corralation "
   ]
  },
  {
   "cell_type": "code",
   "execution_count": null,
   "id": "ecc3286f",
   "metadata": {},
   "outputs": [],
   "source": [
    "# 1.2  cat vrs cat chi^2"
   ]
  },
  {
   "cell_type": "code",
   "execution_count": null,
   "id": "ae19f1bf",
   "metadata": {},
   "outputs": [],
   "source": [
    "# 1.3  continuous vrs continuous pearsonr"
   ]
  },
  {
   "cell_type": "code",
   "execution_count": null,
   "id": "248a1713",
   "metadata": {},
   "outputs": [],
   "source": []
  },
  {
   "cell_type": "markdown",
   "id": "a1e6c8de",
   "metadata": {},
   "source": [
    "#### 2. Use the telco_churn data.\n",
    "- Does tenure correlate with monthly charges?\n",
    "- Total charges?\n",
    "- What happens if you control for phone and internet service?"
   ]
  },
  {
   "cell_type": "code",
   "execution_count": 8,
   "id": "2020833c",
   "metadata": {},
   "outputs": [],
   "source": [
    "telco = pd.read_csv('telco_data.csv', sep='\\t', encoding='UTF 16')"
   ]
  },
  {
   "cell_type": "code",
   "execution_count": 9,
   "id": "dea1ab86",
   "metadata": {},
   "outputs": [
    {
     "data": {
      "text/html": [
       "<div>\n",
       "<style scoped>\n",
       "    .dataframe tbody tr th:only-of-type {\n",
       "        vertical-align: middle;\n",
       "    }\n",
       "\n",
       "    .dataframe tbody tr th {\n",
       "        vertical-align: top;\n",
       "    }\n",
       "\n",
       "    .dataframe thead th {\n",
       "        text-align: right;\n",
       "    }\n",
       "</style>\n",
       "<table border=\"1\" class=\"dataframe\">\n",
       "  <thead>\n",
       "    <tr style=\"text-align: right;\">\n",
       "      <th></th>\n",
       "      <th>Add-on Count</th>\n",
       "      <th>Churn</th>\n",
       "      <th>Contract</th>\n",
       "      <th>Customer ID</th>\n",
       "      <th>Dependents</th>\n",
       "      <th>Device Protection</th>\n",
       "      <th>Gender</th>\n",
       "      <th>Internet Service</th>\n",
       "      <th>Multiple Lines</th>\n",
       "      <th>Online Backup</th>\n",
       "      <th>...</th>\n",
       "      <th>Tech Support</th>\n",
       "      <th>with Online Backup</th>\n",
       "      <th>with Online Security</th>\n",
       "      <th>with Streaming Movies</th>\n",
       "      <th>with Streaming TV</th>\n",
       "      <th>with Tech Support</th>\n",
       "      <th>Estimated Tenure(months)</th>\n",
       "      <th>Monthly Charges</th>\n",
       "      <th>Tenure</th>\n",
       "      <th>Total Charges</th>\n",
       "    </tr>\n",
       "  </thead>\n",
       "  <tbody>\n",
       "    <tr>\n",
       "      <th>0</th>\n",
       "      <td>0</td>\n",
       "      <td>No</td>\n",
       "      <td>Month-to-month</td>\n",
       "      <td>7590-VHVEG</td>\n",
       "      <td>None</td>\n",
       "      <td>Device Wiithout Protection</td>\n",
       "      <td>Female</td>\n",
       "      <td>DSL</td>\n",
       "      <td>No phone service</td>\n",
       "      <td>Online Backup</td>\n",
       "      <td>...</td>\n",
       "      <td>Support Not Contacted</td>\n",
       "      <td>0</td>\n",
       "      <td>0</td>\n",
       "      <td>0</td>\n",
       "      <td>0</td>\n",
       "      <td>0</td>\n",
       "      <td>1.0</td>\n",
       "      <td>29.85</td>\n",
       "      <td>1</td>\n",
       "      <td>29.85</td>\n",
       "    </tr>\n",
       "    <tr>\n",
       "      <th>1</th>\n",
       "      <td>0</td>\n",
       "      <td>No</td>\n",
       "      <td>One year</td>\n",
       "      <td>5575-GNVDE</td>\n",
       "      <td>None</td>\n",
       "      <td>Protected Device</td>\n",
       "      <td>Male</td>\n",
       "      <td>DSL</td>\n",
       "      <td>Single Line</td>\n",
       "      <td>Internet With No Backup</td>\n",
       "      <td>...</td>\n",
       "      <td>Support Not Contacted</td>\n",
       "      <td>0</td>\n",
       "      <td>0</td>\n",
       "      <td>0</td>\n",
       "      <td>0</td>\n",
       "      <td>0</td>\n",
       "      <td>33.0</td>\n",
       "      <td>56.95</td>\n",
       "      <td>34</td>\n",
       "      <td>1889.50</td>\n",
       "    </tr>\n",
       "    <tr>\n",
       "      <th>2</th>\n",
       "      <td>0</td>\n",
       "      <td>Yes</td>\n",
       "      <td>Month-to-month</td>\n",
       "      <td>3668-QPYBK</td>\n",
       "      <td>None</td>\n",
       "      <td>Device Wiithout Protection</td>\n",
       "      <td>Male</td>\n",
       "      <td>DSL</td>\n",
       "      <td>Single Line</td>\n",
       "      <td>Online Backup</td>\n",
       "      <td>...</td>\n",
       "      <td>Support Not Contacted</td>\n",
       "      <td>0</td>\n",
       "      <td>0</td>\n",
       "      <td>0</td>\n",
       "      <td>0</td>\n",
       "      <td>0</td>\n",
       "      <td>2.0</td>\n",
       "      <td>53.85</td>\n",
       "      <td>2</td>\n",
       "      <td>108.15</td>\n",
       "    </tr>\n",
       "    <tr>\n",
       "      <th>3</th>\n",
       "      <td>0</td>\n",
       "      <td>No</td>\n",
       "      <td>One year</td>\n",
       "      <td>7795-CFOCW</td>\n",
       "      <td>None</td>\n",
       "      <td>Protected Device</td>\n",
       "      <td>Male</td>\n",
       "      <td>DSL</td>\n",
       "      <td>No phone service</td>\n",
       "      <td>Internet With No Backup</td>\n",
       "      <td>...</td>\n",
       "      <td>Has a Support Ticket</td>\n",
       "      <td>0</td>\n",
       "      <td>0</td>\n",
       "      <td>0</td>\n",
       "      <td>0</td>\n",
       "      <td>0</td>\n",
       "      <td>43.0</td>\n",
       "      <td>42.30</td>\n",
       "      <td>45</td>\n",
       "      <td>1840.75</td>\n",
       "    </tr>\n",
       "    <tr>\n",
       "      <th>4</th>\n",
       "      <td>0</td>\n",
       "      <td>Yes</td>\n",
       "      <td>Month-to-month</td>\n",
       "      <td>9237-HQITU</td>\n",
       "      <td>None</td>\n",
       "      <td>Device Wiithout Protection</td>\n",
       "      <td>Female</td>\n",
       "      <td>Fiber optic</td>\n",
       "      <td>Single Line</td>\n",
       "      <td>Internet With No Backup</td>\n",
       "      <td>...</td>\n",
       "      <td>Support Not Contacted</td>\n",
       "      <td>0</td>\n",
       "      <td>0</td>\n",
       "      <td>0</td>\n",
       "      <td>0</td>\n",
       "      <td>0</td>\n",
       "      <td>2.0</td>\n",
       "      <td>70.70</td>\n",
       "      <td>2</td>\n",
       "      <td>151.65</td>\n",
       "    </tr>\n",
       "  </tbody>\n",
       "</table>\n",
       "<p>5 rows × 29 columns</p>\n",
       "</div>"
      ],
      "text/plain": [
       "   Add-on Count Churn        Contract Customer ID Dependents  \\\n",
       "0             0    No  Month-to-month  7590-VHVEG       None   \n",
       "1             0    No        One year  5575-GNVDE       None   \n",
       "2             0   Yes  Month-to-month  3668-QPYBK       None   \n",
       "3             0    No        One year  7795-CFOCW       None   \n",
       "4             0   Yes  Month-to-month  9237-HQITU       None   \n",
       "\n",
       "            Device Protection  Gender Internet Service    Multiple Lines  \\\n",
       "0  Device Wiithout Protection  Female              DSL  No phone service   \n",
       "1            Protected Device    Male              DSL       Single Line   \n",
       "2  Device Wiithout Protection    Male              DSL       Single Line   \n",
       "3            Protected Device    Male              DSL  No phone service   \n",
       "4  Device Wiithout Protection  Female      Fiber optic       Single Line   \n",
       "\n",
       "             Online Backup  ...           Tech Support with Online Backup  \\\n",
       "0            Online Backup  ...  Support Not Contacted                  0   \n",
       "1  Internet With No Backup  ...  Support Not Contacted                  0   \n",
       "2            Online Backup  ...  Support Not Contacted                  0   \n",
       "3  Internet With No Backup  ...   Has a Support Ticket                  0   \n",
       "4  Internet With No Backup  ...  Support Not Contacted                  0   \n",
       "\n",
       "  with Online Security with Streaming Movies with Streaming TV  \\\n",
       "0                    0                     0                 0   \n",
       "1                    0                     0                 0   \n",
       "2                    0                     0                 0   \n",
       "3                    0                     0                 0   \n",
       "4                    0                     0                 0   \n",
       "\n",
       "  with Tech Support Estimated Tenure(months) Monthly Charges Tenure  \\\n",
       "0                 0                      1.0           29.85      1   \n",
       "1                 0                     33.0           56.95     34   \n",
       "2                 0                      2.0           53.85      2   \n",
       "3                 0                     43.0           42.30     45   \n",
       "4                 0                      2.0           70.70      2   \n",
       "\n",
       "  Total Charges  \n",
       "0         29.85  \n",
       "1       1889.50  \n",
       "2        108.15  \n",
       "3       1840.75  \n",
       "4        151.65  \n",
       "\n",
       "[5 rows x 29 columns]"
      ]
     },
     "execution_count": 9,
     "metadata": {},
     "output_type": "execute_result"
    }
   ],
   "source": [
    "telco.head()"
   ]
  },
  {
   "cell_type": "code",
   "execution_count": 12,
   "id": "a3cda354",
   "metadata": {},
   "outputs": [],
   "source": [
    "tenure = telco.Tenure \n",
    "monthly_charges = telco['Monthly Charges']"
   ]
  },
  {
   "cell_type": "code",
   "execution_count": 18,
   "id": "8039f404",
   "metadata": {},
   "outputs": [],
   "source": [
    "a = 0.05"
   ]
  },
  {
   "cell_type": "markdown",
   "id": "12552bc8",
   "metadata": {},
   "source": [
    "H$_0$ : There is a no correlation with tenure and monthly charges\n",
    "\n",
    "H$_a$ : There is a correlation with tenure and monthly charges"
   ]
  },
  {
   "cell_type": "code",
   "execution_count": 14,
   "id": "677f9ed9",
   "metadata": {},
   "outputs": [],
   "source": [
    "r, p = stats.pearsonr(tenure, monthly_charges)"
   ]
  },
  {
   "cell_type": "code",
   "execution_count": 49,
   "id": "9f6ce89e",
   "metadata": {},
   "outputs": [
    {
     "data": {
      "text/plain": [
       "0.0"
      ]
     },
     "execution_count": 49,
     "metadata": {},
     "output_type": "execute_result"
    }
   ],
   "source": [
    "p < a\n",
    "p"
   ]
  },
  {
   "cell_type": "code",
   "execution_count": 20,
   "id": "fdd82a29",
   "metadata": {},
   "outputs": [
    {
     "data": {
      "text/plain": [
       "0.2478998562861518"
      ]
     },
     "execution_count": 20,
     "metadata": {},
     "output_type": "execute_result"
    }
   ],
   "source": [
    "r"
   ]
  },
  {
   "cell_type": "code",
   "execution_count": 22,
   "id": "6c1986e0",
   "metadata": {
    "scrolled": true
   },
   "outputs": [
    {
     "data": {
      "text/plain": [
       "<matplotlib.collections.PathCollection at 0x1619fb790>"
      ]
     },
     "execution_count": 22,
     "metadata": {},
     "output_type": "execute_result"
    },
    {
     "data": {
      "image/png": "[encoded data removed]",
      "text/plain": [
       "<Figure size 640x480 with 1 Axes>"
      ]
     },
     "metadata": {},
     "output_type": "display_data"
    }
   ],
   "source": [
    "plt.scatter(tenure, monthly_charges)"
   ]
  },
  {
   "cell_type": "markdown",
   "id": "e6ad953e",
   "metadata": {},
   "source": [
    "### H$_0$ : There is a no correlation with tenure and total charges\n",
    "\n",
    "### H$_a$ : There is a correlation with tenure and total charges"
   ]
  },
  {
   "cell_type": "code",
   "execution_count": 35,
   "id": "f3411f4c",
   "metadata": {},
   "outputs": [
    {
     "data": {
      "text/plain": [
       "0         29.85\n",
       "1       1889.50\n",
       "2        108.15\n",
       "3       1840.75\n",
       "4        151.65\n",
       "         ...   \n",
       "7038    6822.15\n",
       "7039    4146.05\n",
       "7040    4534.90\n",
       "7041    7548.10\n",
       "7042    4541.20\n",
       "Name: Total Charges, Length: 7043, dtype: float64"
      ]
     },
     "execution_count": 35,
     "metadata": {},
     "output_type": "execute_result"
    }
   ],
   "source": [
    "total_charges = telco['Total Charges'].fillna(0)\n",
    "total_charges "
   ]
  },
  {
   "cell_type": "code",
   "execution_count": 36,
   "id": "ae485f64",
   "metadata": {},
   "outputs": [],
   "source": [
    "r, p = stats.pearsonr(tenure, total_charges)"
   ]
  },
  {
   "cell_type": "code",
   "execution_count": 48,
   "id": "151e78ed",
   "metadata": {},
   "outputs": [
    {
     "data": {
      "text/plain": [
       "True"
      ]
     },
     "execution_count": 48,
     "metadata": {},
     "output_type": "execute_result"
    }
   ],
   "source": [
    "p < a\n"
   ]
  },
  {
   "cell_type": "code",
   "execution_count": 41,
   "id": "24f4f7c7",
   "metadata": {},
   "outputs": [
    {
     "data": {
      "text/plain": [
       "0.8261783979502477"
      ]
     },
     "execution_count": 41,
     "metadata": {},
     "output_type": "execute_result"
    }
   ],
   "source": [
    "r"
   ]
  },
  {
   "cell_type": "code",
   "execution_count": 42,
   "id": "975330f2",
   "metadata": {
    "scrolled": true
   },
   "outputs": [
    {
     "data": {
      "image/png": "[encoded data removed]",
      "text/plain": [
       "<Figure size 640x480 with 1 Axes>"
      ]
     },
     "metadata": {},
     "output_type": "display_data"
    }
   ],
   "source": [
    "plt.scatter(tenure, total_charges);"
   ]
  },
  {
   "cell_type": "markdown",
   "id": "f4d49e13",
   "metadata": {},
   "source": [
    "### H$_0$ : There is a no correlation with single line phone service with dsl and monthly charges\n",
    "\n",
    "### H$_a$ : There is a correlation with  single line phone service with dsl and monthly charges"
   ]
  },
  {
   "cell_type": "code",
   "execution_count": 103,
   "id": "d23b53e1",
   "metadata": {},
   "outputs": [
    {
     "data": {
      "text/html": [
       "<div>\n",
       "<style scoped>\n",
       "    .dataframe tbody tr th:only-of-type {\n",
       "        vertical-align: middle;\n",
       "    }\n",
       "\n",
       "    .dataframe tbody tr th {\n",
       "        vertical-align: top;\n",
       "    }\n",
       "\n",
       "    .dataframe thead th {\n",
       "        text-align: right;\n",
       "    }\n",
       "</style>\n",
       "<table border=\"1\" class=\"dataframe\">\n",
       "  <thead>\n",
       "    <tr style=\"text-align: right;\">\n",
       "      <th></th>\n",
       "      <th>Add-on Count</th>\n",
       "      <th>Churn</th>\n",
       "      <th>Contract</th>\n",
       "      <th>Customer ID</th>\n",
       "      <th>Dependents</th>\n",
       "      <th>Device Protection</th>\n",
       "      <th>Gender</th>\n",
       "      <th>Internet Service</th>\n",
       "      <th>Multiple Lines</th>\n",
       "      <th>Online Backup</th>\n",
       "      <th>...</th>\n",
       "      <th>Tech Support</th>\n",
       "      <th>with Online Backup</th>\n",
       "      <th>with Online Security</th>\n",
       "      <th>with Streaming Movies</th>\n",
       "      <th>with Streaming TV</th>\n",
       "      <th>with Tech Support</th>\n",
       "      <th>Estimated Tenure(months)</th>\n",
       "      <th>Monthly Charges</th>\n",
       "      <th>Tenure</th>\n",
       "      <th>Total Charges</th>\n",
       "    </tr>\n",
       "  </thead>\n",
       "  <tbody>\n",
       "    <tr>\n",
       "      <th>0</th>\n",
       "      <td>0</td>\n",
       "      <td>No</td>\n",
       "      <td>Month-to-month</td>\n",
       "      <td>7590-VHVEG</td>\n",
       "      <td>None</td>\n",
       "      <td>Device Wiithout Protection</td>\n",
       "      <td>Female</td>\n",
       "      <td>DSL</td>\n",
       "      <td>No phone service</td>\n",
       "      <td>Online Backup</td>\n",
       "      <td>...</td>\n",
       "      <td>Support Not Contacted</td>\n",
       "      <td>0</td>\n",
       "      <td>0</td>\n",
       "      <td>0</td>\n",
       "      <td>0</td>\n",
       "      <td>0</td>\n",
       "      <td>1.0</td>\n",
       "      <td>29.85</td>\n",
       "      <td>1</td>\n",
       "      <td>29.85</td>\n",
       "    </tr>\n",
       "    <tr>\n",
       "      <th>1</th>\n",
       "      <td>0</td>\n",
       "      <td>No</td>\n",
       "      <td>One year</td>\n",
       "      <td>5575-GNVDE</td>\n",
       "      <td>None</td>\n",
       "      <td>Protected Device</td>\n",
       "      <td>Male</td>\n",
       "      <td>DSL</td>\n",
       "      <td>Single Line</td>\n",
       "      <td>Internet With No Backup</td>\n",
       "      <td>...</td>\n",
       "      <td>Support Not Contacted</td>\n",
       "      <td>0</td>\n",
       "      <td>0</td>\n",
       "      <td>0</td>\n",
       "      <td>0</td>\n",
       "      <td>0</td>\n",
       "      <td>33.0</td>\n",
       "      <td>56.95</td>\n",
       "      <td>34</td>\n",
       "      <td>1889.50</td>\n",
       "    </tr>\n",
       "    <tr>\n",
       "      <th>2</th>\n",
       "      <td>0</td>\n",
       "      <td>Yes</td>\n",
       "      <td>Month-to-month</td>\n",
       "      <td>3668-QPYBK</td>\n",
       "      <td>None</td>\n",
       "      <td>Device Wiithout Protection</td>\n",
       "      <td>Male</td>\n",
       "      <td>DSL</td>\n",
       "      <td>Single Line</td>\n",
       "      <td>Online Backup</td>\n",
       "      <td>...</td>\n",
       "      <td>Support Not Contacted</td>\n",
       "      <td>0</td>\n",
       "      <td>0</td>\n",
       "      <td>0</td>\n",
       "      <td>0</td>\n",
       "      <td>0</td>\n",
       "      <td>2.0</td>\n",
       "      <td>53.85</td>\n",
       "      <td>2</td>\n",
       "      <td>108.15</td>\n",
       "    </tr>\n",
       "    <tr>\n",
       "      <th>3</th>\n",
       "      <td>0</td>\n",
       "      <td>No</td>\n",
       "      <td>One year</td>\n",
       "      <td>7795-CFOCW</td>\n",
       "      <td>None</td>\n",
       "      <td>Protected Device</td>\n",
       "      <td>Male</td>\n",
       "      <td>DSL</td>\n",
       "      <td>No phone service</td>\n",
       "      <td>Internet With No Backup</td>\n",
       "      <td>...</td>\n",
       "      <td>Has a Support Ticket</td>\n",
       "      <td>0</td>\n",
       "      <td>0</td>\n",
       "      <td>0</td>\n",
       "      <td>0</td>\n",
       "      <td>0</td>\n",
       "      <td>43.0</td>\n",
       "      <td>42.30</td>\n",
       "      <td>45</td>\n",
       "      <td>1840.75</td>\n",
       "    </tr>\n",
       "    <tr>\n",
       "      <th>4</th>\n",
       "      <td>0</td>\n",
       "      <td>Yes</td>\n",
       "      <td>Month-to-month</td>\n",
       "      <td>9237-HQITU</td>\n",
       "      <td>None</td>\n",
       "      <td>Device Wiithout Protection</td>\n",
       "      <td>Female</td>\n",
       "      <td>Fiber optic</td>\n",
       "      <td>Single Line</td>\n",
       "      <td>Internet With No Backup</td>\n",
       "      <td>...</td>\n",
       "      <td>Support Not Contacted</td>\n",
       "      <td>0</td>\n",
       "      <td>0</td>\n",
       "      <td>0</td>\n",
       "      <td>0</td>\n",
       "      <td>0</td>\n",
       "      <td>2.0</td>\n",
       "      <td>70.70</td>\n",
       "      <td>2</td>\n",
       "      <td>151.65</td>\n",
       "    </tr>\n",
       "  </tbody>\n",
       "</table>\n",
       "<p>5 rows × 29 columns</p>\n",
       "</div>"
      ],
      "text/plain": [
       "   Add-on Count Churn        Contract Customer ID Dependents  \\\n",
       "0             0    No  Month-to-month  7590-VHVEG       None   \n",
       "1             0    No        One year  5575-GNVDE       None   \n",
       "2             0   Yes  Month-to-month  3668-QPYBK       None   \n",
       "3             0    No        One year  7795-CFOCW       None   \n",
       "4             0   Yes  Month-to-month  9237-HQITU       None   \n",
       "\n",
       "            Device Protection  Gender Internet Service    Multiple Lines  \\\n",
       "0  Device Wiithout Protection  Female              DSL  No phone service   \n",
       "1            Protected Device    Male              DSL       Single Line   \n",
       "2  Device Wiithout Protection    Male              DSL       Single Line   \n",
       "3            Protected Device    Male              DSL  No phone service   \n",
       "4  Device Wiithout Protection  Female      Fiber optic       Single Line   \n",
       "\n",
       "             Online Backup  ...           Tech Support with Online Backup  \\\n",
       "0            Online Backup  ...  Support Not Contacted                  0   \n",
       "1  Internet With No Backup  ...  Support Not Contacted                  0   \n",
       "2            Online Backup  ...  Support Not Contacted                  0   \n",
       "3  Internet With No Backup  ...   Has a Support Ticket                  0   \n",
       "4  Internet With No Backup  ...  Support Not Contacted                  0   \n",
       "\n",
       "  with Online Security with Streaming Movies with Streaming TV  \\\n",
       "0                    0                     0                 0   \n",
       "1                    0                     0                 0   \n",
       "2                    0                     0                 0   \n",
       "3                    0                     0                 0   \n",
       "4                    0                     0                 0   \n",
       "\n",
       "  with Tech Support Estimated Tenure(months) Monthly Charges Tenure  \\\n",
       "0                 0                      1.0           29.85      1   \n",
       "1                 0                     33.0           56.95     34   \n",
       "2                 0                      2.0           53.85      2   \n",
       "3                 0                     43.0           42.30     45   \n",
       "4                 0                      2.0           70.70      2   \n",
       "\n",
       "  Total Charges  \n",
       "0         29.85  \n",
       "1       1889.50  \n",
       "2        108.15  \n",
       "3       1840.75  \n",
       "4        151.65  \n",
       "\n",
       "[5 rows x 29 columns]"
      ]
     },
     "execution_count": 103,
     "metadata": {},
     "output_type": "execute_result"
    }
   ],
   "source": [
    "telco.head()"
   ]
  },
  {
   "cell_type": "code",
   "execution_count": 61,
   "id": "c484542a",
   "metadata": {
    "scrolled": true
   },
   "outputs": [],
   "source": [
    "telco['Internet Service'].count_values()"
   ]
  },
  {
   "cell_type": "code",
   "execution_count": 104,
   "id": "3531a090",
   "metadata": {},
   "outputs": [
    {
     "data": {
      "text/html": [
       "<div>\n",
       "<style scoped>\n",
       "    .dataframe tbody tr th:only-of-type {\n",
       "        vertical-align: middle;\n",
       "    }\n",
       "\n",
       "    .dataframe tbody tr th {\n",
       "        vertical-align: top;\n",
       "    }\n",
       "\n",
       "    .dataframe thead th {\n",
       "        text-align: right;\n",
       "    }\n",
       "</style>\n",
       "<table border=\"1\" class=\"dataframe\">\n",
       "  <thead>\n",
       "    <tr style=\"text-align: right;\">\n",
       "      <th></th>\n",
       "      <th>Add-on Count</th>\n",
       "      <th>Churn</th>\n",
       "      <th>Contract</th>\n",
       "      <th>Customer ID</th>\n",
       "      <th>Dependents</th>\n",
       "      <th>Device Protection</th>\n",
       "      <th>Gender</th>\n",
       "      <th>Internet Service</th>\n",
       "      <th>Multiple Lines</th>\n",
       "      <th>Online Backup</th>\n",
       "      <th>...</th>\n",
       "      <th>Tech Support</th>\n",
       "      <th>with Online Backup</th>\n",
       "      <th>with Online Security</th>\n",
       "      <th>with Streaming Movies</th>\n",
       "      <th>with Streaming TV</th>\n",
       "      <th>with Tech Support</th>\n",
       "      <th>Estimated Tenure(months)</th>\n",
       "      <th>Monthly Charges</th>\n",
       "      <th>Tenure</th>\n",
       "      <th>Total Charges</th>\n",
       "    </tr>\n",
       "  </thead>\n",
       "  <tbody>\n",
       "    <tr>\n",
       "      <th>1</th>\n",
       "      <td>0</td>\n",
       "      <td>No</td>\n",
       "      <td>One year</td>\n",
       "      <td>5575-GNVDE</td>\n",
       "      <td>None</td>\n",
       "      <td>Protected Device</td>\n",
       "      <td>Male</td>\n",
       "      <td>DSL</td>\n",
       "      <td>Single Line</td>\n",
       "      <td>Internet With No Backup</td>\n",
       "      <td>...</td>\n",
       "      <td>Support Not Contacted</td>\n",
       "      <td>0</td>\n",
       "      <td>0</td>\n",
       "      <td>0</td>\n",
       "      <td>0</td>\n",
       "      <td>0</td>\n",
       "      <td>33.0</td>\n",
       "      <td>56.95</td>\n",
       "      <td>34</td>\n",
       "      <td>1889.50</td>\n",
       "    </tr>\n",
       "    <tr>\n",
       "      <th>2</th>\n",
       "      <td>0</td>\n",
       "      <td>Yes</td>\n",
       "      <td>Month-to-month</td>\n",
       "      <td>3668-QPYBK</td>\n",
       "      <td>None</td>\n",
       "      <td>Device Wiithout Protection</td>\n",
       "      <td>Male</td>\n",
       "      <td>DSL</td>\n",
       "      <td>Single Line</td>\n",
       "      <td>Online Backup</td>\n",
       "      <td>...</td>\n",
       "      <td>Support Not Contacted</td>\n",
       "      <td>0</td>\n",
       "      <td>0</td>\n",
       "      <td>0</td>\n",
       "      <td>0</td>\n",
       "      <td>0</td>\n",
       "      <td>2.0</td>\n",
       "      <td>53.85</td>\n",
       "      <td>2</td>\n",
       "      <td>108.15</td>\n",
       "    </tr>\n",
       "    <tr>\n",
       "      <th>9</th>\n",
       "      <td>0</td>\n",
       "      <td>No</td>\n",
       "      <td>One year</td>\n",
       "      <td>6388-TABGU</td>\n",
       "      <td>Has Dependants</td>\n",
       "      <td>Device Wiithout Protection</td>\n",
       "      <td>Male</td>\n",
       "      <td>DSL</td>\n",
       "      <td>Single Line</td>\n",
       "      <td>Online Backup</td>\n",
       "      <td>...</td>\n",
       "      <td>Support Not Contacted</td>\n",
       "      <td>0</td>\n",
       "      <td>0</td>\n",
       "      <td>0</td>\n",
       "      <td>0</td>\n",
       "      <td>0</td>\n",
       "      <td>62.0</td>\n",
       "      <td>56.15</td>\n",
       "      <td>62</td>\n",
       "      <td>3487.95</td>\n",
       "    </tr>\n",
       "    <tr>\n",
       "      <th>10</th>\n",
       "      <td>0</td>\n",
       "      <td>No</td>\n",
       "      <td>Month-to-month</td>\n",
       "      <td>9763-GRSKD</td>\n",
       "      <td>Has Dependants</td>\n",
       "      <td>Device Wiithout Protection</td>\n",
       "      <td>Male</td>\n",
       "      <td>DSL</td>\n",
       "      <td>Single Line</td>\n",
       "      <td>Internet With No Backup</td>\n",
       "      <td>...</td>\n",
       "      <td>Support Not Contacted</td>\n",
       "      <td>0</td>\n",
       "      <td>0</td>\n",
       "      <td>0</td>\n",
       "      <td>0</td>\n",
       "      <td>0</td>\n",
       "      <td>11.0</td>\n",
       "      <td>49.95</td>\n",
       "      <td>13</td>\n",
       "      <td>587.45</td>\n",
       "    </tr>\n",
       "    <tr>\n",
       "      <th>18</th>\n",
       "      <td>0</td>\n",
       "      <td>Yes</td>\n",
       "      <td>Month-to-month</td>\n",
       "      <td>4190-MFLUW</td>\n",
       "      <td>Has Dependants</td>\n",
       "      <td>Protected Device</td>\n",
       "      <td>Female</td>\n",
       "      <td>DSL</td>\n",
       "      <td>Single Line</td>\n",
       "      <td>Internet With No Backup</td>\n",
       "      <td>...</td>\n",
       "      <td>Has a Support Ticket</td>\n",
       "      <td>0</td>\n",
       "      <td>0</td>\n",
       "      <td>0</td>\n",
       "      <td>0</td>\n",
       "      <td>0</td>\n",
       "      <td>9.0</td>\n",
       "      <td>55.20</td>\n",
       "      <td>10</td>\n",
       "      <td>528.35</td>\n",
       "    </tr>\n",
       "  </tbody>\n",
       "</table>\n",
       "<p>5 rows × 29 columns</p>\n",
       "</div>"
      ],
      "text/plain": [
       "    Add-on Count Churn        Contract Customer ID      Dependents  \\\n",
       "1              0    No        One year  5575-GNVDE            None   \n",
       "2              0   Yes  Month-to-month  3668-QPYBK            None   \n",
       "9              0    No        One year  6388-TABGU  Has Dependants   \n",
       "10             0    No  Month-to-month  9763-GRSKD  Has Dependants   \n",
       "18             0   Yes  Month-to-month  4190-MFLUW  Has Dependants   \n",
       "\n",
       "             Device Protection  Gender Internet Service Multiple Lines  \\\n",
       "1             Protected Device    Male              DSL    Single Line   \n",
       "2   Device Wiithout Protection    Male              DSL    Single Line   \n",
       "9   Device Wiithout Protection    Male              DSL    Single Line   \n",
       "10  Device Wiithout Protection    Male              DSL    Single Line   \n",
       "18            Protected Device  Female              DSL    Single Line   \n",
       "\n",
       "              Online Backup  ...           Tech Support with Online Backup  \\\n",
       "1   Internet With No Backup  ...  Support Not Contacted                  0   \n",
       "2             Online Backup  ...  Support Not Contacted                  0   \n",
       "9             Online Backup  ...  Support Not Contacted                  0   \n",
       "10  Internet With No Backup  ...  Support Not Contacted                  0   \n",
       "18  Internet With No Backup  ...   Has a Support Ticket                  0   \n",
       "\n",
       "   with Online Security with Streaming Movies with Streaming TV  \\\n",
       "1                     0                     0                 0   \n",
       "2                     0                     0                 0   \n",
       "9                     0                     0                 0   \n",
       "10                    0                     0                 0   \n",
       "18                    0                     0                 0   \n",
       "\n",
       "   with Tech Support Estimated Tenure(months) Monthly Charges Tenure  \\\n",
       "1                  0                     33.0           56.95     34   \n",
       "2                  0                      2.0           53.85      2   \n",
       "9                  0                     62.0           56.15     62   \n",
       "10                 0                     11.0           49.95     13   \n",
       "18                 0                      9.0           55.20     10   \n",
       "\n",
       "   Total Charges  \n",
       "1        1889.50  \n",
       "2         108.15  \n",
       "9        3487.95  \n",
       "10        587.45  \n",
       "18        528.35  \n",
       "\n",
       "[5 rows x 29 columns]"
      ]
     },
     "execution_count": 104,
     "metadata": {},
     "output_type": "execute_result"
    }
   ],
   "source": [
    "single_lines_with_dsl = telco[(telco['Multiple Lines'] == \"Single Line\") & (telco['Internet Service'] == \"DSL\")].fillna(0)\n",
    "single_lines_with_dsl.head()"
   ]
  },
  {
   "cell_type": "code",
   "execution_count": 105,
   "id": "0673f338",
   "metadata": {},
   "outputs": [],
   "source": [
    "r, p = stats.pearsonr(single_lines_with_dsl['Tenure'], single_lines_with_dsl['Monthly Charges'])"
   ]
  },
  {
   "cell_type": "code",
   "execution_count": 106,
   "id": "4c873528",
   "metadata": {},
   "outputs": [
    {
     "data": {
      "text/plain": [
       "True"
      ]
     },
     "execution_count": 106,
     "metadata": {},
     "output_type": "execute_result"
    }
   ],
   "source": [
    "p < a"
   ]
  },
  {
   "cell_type": "code",
   "execution_count": 100,
   "id": "bd07a732",
   "metadata": {},
   "outputs": [
    {
     "data": {
      "text/plain": [
       "0.5587305304603047"
      ]
     },
     "execution_count": 100,
     "metadata": {},
     "output_type": "execute_result"
    }
   ],
   "source": [
    "r"
   ]
  },
  {
   "cell_type": "code",
   "execution_count": 107,
   "id": "ac543df0",
   "metadata": {},
   "outputs": [
    {
     "data": {
      "image/png": "[encoded data removed]",
      "text/plain": [
       "<Figure size 640x480 with 1 Axes>"
      ]
     },
     "metadata": {},
     "output_type": "display_data"
    }
   ],
   "source": [
    "plt.scatter(single_lines_with_dsl['Tenure'], single_lines_with_dsl['Monthly Charges']);"
   ]
  },
  {
   "cell_type": "markdown",
   "id": "bb54e36b",
   "metadata": {},
   "source": [
    "### H$_0$ : There is a no correlation with mulit line phone service with dsl and monthly charges\n",
    "\n",
    "### H$_a$ : There is a correlation with  mulit line phone service with dsl and monthly charges"
   ]
  },
  {
   "cell_type": "code",
   "execution_count": 108,
   "id": "a45481bd",
   "metadata": {},
   "outputs": [],
   "source": [
    "multi_lines_with_dsl = telco[(telco['Multiple Lines'] == \"Multiple Lines\") & (telco['Internet Service'] == \"DSL\")].fillna(0)"
   ]
  },
  {
   "cell_type": "code",
   "execution_count": 109,
   "id": "02a35bc9",
   "metadata": {},
   "outputs": [
    {
     "data": {
      "text/html": [
       "<div>\n",
       "<style scoped>\n",
       "    .dataframe tbody tr th:only-of-type {\n",
       "        vertical-align: middle;\n",
       "    }\n",
       "\n",
       "    .dataframe tbody tr th {\n",
       "        vertical-align: top;\n",
       "    }\n",
       "\n",
       "    .dataframe thead th {\n",
       "        text-align: right;\n",
       "    }\n",
       "</style>\n",
       "<table border=\"1\" class=\"dataframe\">\n",
       "  <thead>\n",
       "    <tr style=\"text-align: right;\">\n",
       "      <th></th>\n",
       "      <th>Add-on Count</th>\n",
       "      <th>Churn</th>\n",
       "      <th>Contract</th>\n",
       "      <th>Customer ID</th>\n",
       "      <th>Dependents</th>\n",
       "      <th>Device Protection</th>\n",
       "      <th>Gender</th>\n",
       "      <th>Internet Service</th>\n",
       "      <th>Multiple Lines</th>\n",
       "      <th>Online Backup</th>\n",
       "      <th>...</th>\n",
       "      <th>Tech Support</th>\n",
       "      <th>with Online Backup</th>\n",
       "      <th>with Online Security</th>\n",
       "      <th>with Streaming Movies</th>\n",
       "      <th>with Streaming TV</th>\n",
       "      <th>with Tech Support</th>\n",
       "      <th>Estimated Tenure(months)</th>\n",
       "      <th>Monthly Charges</th>\n",
       "      <th>Tenure</th>\n",
       "      <th>Total Charges</th>\n",
       "    </tr>\n",
       "  </thead>\n",
       "  <tbody>\n",
       "    <tr>\n",
       "      <th>23</th>\n",
       "      <td>0</td>\n",
       "      <td>No</td>\n",
       "      <td>Two year</td>\n",
       "      <td>3638-WEABW</td>\n",
       "      <td>None</td>\n",
       "      <td>Device Wiithout Protection</td>\n",
       "      <td>Female</td>\n",
       "      <td>DSL</td>\n",
       "      <td>Multiple Lines</td>\n",
       "      <td>Online Backup</td>\n",
       "      <td>...</td>\n",
       "      <td>Has a Support Ticket</td>\n",
       "      <td>0</td>\n",
       "      <td>0</td>\n",
       "      <td>0</td>\n",
       "      <td>0</td>\n",
       "      <td>0</td>\n",
       "      <td>58.0</td>\n",
       "      <td>59.90</td>\n",
       "      <td>58</td>\n",
       "      <td>3505.10</td>\n",
       "    </tr>\n",
       "    <tr>\n",
       "      <th>28</th>\n",
       "      <td>0</td>\n",
       "      <td>No</td>\n",
       "      <td>Two year</td>\n",
       "      <td>5248-YGIJN</td>\n",
       "      <td>None</td>\n",
       "      <td>Protected Device</td>\n",
       "      <td>Male</td>\n",
       "      <td>DSL</td>\n",
       "      <td>Multiple Lines</td>\n",
       "      <td>Online Backup</td>\n",
       "      <td>...</td>\n",
       "      <td>Has a Support Ticket</td>\n",
       "      <td>0</td>\n",
       "      <td>0</td>\n",
       "      <td>0</td>\n",
       "      <td>0</td>\n",
       "      <td>0</td>\n",
       "      <td>70.0</td>\n",
       "      <td>90.25</td>\n",
       "      <td>72</td>\n",
       "      <td>6369.45</td>\n",
       "    </tr>\n",
       "    <tr>\n",
       "      <th>41</th>\n",
       "      <td>0</td>\n",
       "      <td>No</td>\n",
       "      <td>Two year</td>\n",
       "      <td>9489-DEDVP</td>\n",
       "      <td>Has Dependants</td>\n",
       "      <td>Device Wiithout Protection</td>\n",
       "      <td>Female</td>\n",
       "      <td>DSL</td>\n",
       "      <td>Multiple Lines</td>\n",
       "      <td>Online Backup</td>\n",
       "      <td>...</td>\n",
       "      <td>Support Not Contacted</td>\n",
       "      <td>0</td>\n",
       "      <td>0</td>\n",
       "      <td>0</td>\n",
       "      <td>0</td>\n",
       "      <td>0</td>\n",
       "      <td>70.0</td>\n",
       "      <td>69.20</td>\n",
       "      <td>70</td>\n",
       "      <td>4872.35</td>\n",
       "    </tr>\n",
       "    <tr>\n",
       "      <th>43</th>\n",
       "      <td>0</td>\n",
       "      <td>No</td>\n",
       "      <td>Two year</td>\n",
       "      <td>4671-VJLCL</td>\n",
       "      <td>None</td>\n",
       "      <td>Protected Device</td>\n",
       "      <td>Female</td>\n",
       "      <td>DSL</td>\n",
       "      <td>Multiple Lines</td>\n",
       "      <td>Online Backup</td>\n",
       "      <td>...</td>\n",
       "      <td>Has a Support Ticket</td>\n",
       "      <td>0</td>\n",
       "      <td>0</td>\n",
       "      <td>0</td>\n",
       "      <td>0</td>\n",
       "      <td>0</td>\n",
       "      <td>60.0</td>\n",
       "      <td>79.85</td>\n",
       "      <td>63</td>\n",
       "      <td>4861.45</td>\n",
       "    </tr>\n",
       "    <tr>\n",
       "      <th>44</th>\n",
       "      <td>0</td>\n",
       "      <td>No</td>\n",
       "      <td>Month-to-month</td>\n",
       "      <td>4080-IIARD</td>\n",
       "      <td>None</td>\n",
       "      <td>Device Wiithout Protection</td>\n",
       "      <td>Female</td>\n",
       "      <td>DSL</td>\n",
       "      <td>Multiple Lines</td>\n",
       "      <td>Online Backup</td>\n",
       "      <td>...</td>\n",
       "      <td>Has a Support Ticket</td>\n",
       "      <td>0</td>\n",
       "      <td>0</td>\n",
       "      <td>0</td>\n",
       "      <td>0</td>\n",
       "      <td>0</td>\n",
       "      <td>12.0</td>\n",
       "      <td>76.20</td>\n",
       "      <td>13</td>\n",
       "      <td>981.45</td>\n",
       "    </tr>\n",
       "  </tbody>\n",
       "</table>\n",
       "<p>5 rows × 29 columns</p>\n",
       "</div>"
      ],
      "text/plain": [
       "    Add-on Count Churn        Contract Customer ID      Dependents  \\\n",
       "23             0    No        Two year  3638-WEABW            None   \n",
       "28             0    No        Two year  5248-YGIJN            None   \n",
       "41             0    No        Two year  9489-DEDVP  Has Dependants   \n",
       "43             0    No        Two year  4671-VJLCL            None   \n",
       "44             0    No  Month-to-month  4080-IIARD            None   \n",
       "\n",
       "             Device Protection  Gender Internet Service  Multiple Lines  \\\n",
       "23  Device Wiithout Protection  Female              DSL  Multiple Lines   \n",
       "28            Protected Device    Male              DSL  Multiple Lines   \n",
       "41  Device Wiithout Protection  Female              DSL  Multiple Lines   \n",
       "43            Protected Device  Female              DSL  Multiple Lines   \n",
       "44  Device Wiithout Protection  Female              DSL  Multiple Lines   \n",
       "\n",
       "    Online Backup  ...           Tech Support with Online Backup  \\\n",
       "23  Online Backup  ...   Has a Support Ticket                  0   \n",
       "28  Online Backup  ...   Has a Support Ticket                  0   \n",
       "41  Online Backup  ...  Support Not Contacted                  0   \n",
       "43  Online Backup  ...   Has a Support Ticket                  0   \n",
       "44  Online Backup  ...   Has a Support Ticket                  0   \n",
       "\n",
       "   with Online Security with Streaming Movies with Streaming TV  \\\n",
       "23                    0                     0                 0   \n",
       "28                    0                     0                 0   \n",
       "41                    0                     0                 0   \n",
       "43                    0                     0                 0   \n",
       "44                    0                     0                 0   \n",
       "\n",
       "   with Tech Support Estimated Tenure(months) Monthly Charges Tenure  \\\n",
       "23                 0                     58.0           59.90     58   \n",
       "28                 0                     70.0           90.25     72   \n",
       "41                 0                     70.0           69.20     70   \n",
       "43                 0                     60.0           79.85     63   \n",
       "44                 0                     12.0           76.20     13   \n",
       "\n",
       "   Total Charges  \n",
       "23       3505.10  \n",
       "28       6369.45  \n",
       "41       4872.35  \n",
       "43       4861.45  \n",
       "44        981.45  \n",
       "\n",
       "[5 rows x 29 columns]"
      ]
     },
     "execution_count": 109,
     "metadata": {},
     "output_type": "execute_result"
    }
   ],
   "source": [
    "multi_lines_with_dsl.head()"
   ]
  },
  {
   "cell_type": "code",
   "execution_count": 110,
   "id": "c5ff0500",
   "metadata": {},
   "outputs": [],
   "source": [
    "r, p = stats.pearsonr(multi_lines_with_dsl['Tenure'], multi_lines_with_dsl['Monthly Charges'])"
   ]
  },
  {
   "cell_type": "code",
   "execution_count": 111,
   "id": "3876fd96",
   "metadata": {},
   "outputs": [
    {
     "data": {
      "text/plain": [
       "True"
      ]
     },
     "execution_count": 111,
     "metadata": {},
     "output_type": "execute_result"
    }
   ],
   "source": [
    "p < a "
   ]
  },
  {
   "cell_type": "code",
   "execution_count": 112,
   "id": "586ea62c",
   "metadata": {},
   "outputs": [
    {
     "data": {
      "text/plain": [
       "0.607584428481035"
      ]
     },
     "execution_count": 112,
     "metadata": {},
     "output_type": "execute_result"
    }
   ],
   "source": [
    "r "
   ]
  },
  {
   "cell_type": "code",
   "execution_count": 114,
   "id": "93b2fe2c",
   "metadata": {},
   "outputs": [
    {
     "data": {
      "image/png": "[encoded data removed]",
      "text/plain": [
       "<Figure size 640x480 with 1 Axes>"
      ]
     },
     "metadata": {},
     "output_type": "display_data"
    }
   ],
   "source": [
    "plt.scatter(multi_lines_with_dsl['Tenure'], multi_lines_with_dsl['Monthly Charges']);"
   ]
  },
  {
   "cell_type": "code",
   "execution_count": null,
   "id": "328b6854",
   "metadata": {},
   "outputs": [],
   "source": []
  },
  {
   "cell_type": "code",
   "execution_count": null,
   "id": "7aee8732",
   "metadata": {},
   "outputs": [],
   "source": []
  },
  {
   "cell_type": "markdown",
   "id": "8ac0c864",
   "metadata": {},
   "source": [
    "#### 3. Use the employees database.\n",
    "- Is there a relationship between how long an employee has been with the company and their salary?\n",
    "- Is there a relationship between how long an employee has been with the company and the number of titles they have had?"
   ]
  },
  {
   "cell_type": "code",
   "execution_count": 140,
   "id": "80b94d1f",
   "metadata": {},
   "outputs": [],
   "source": [
    "from env import get_db_url"
   ]
  },
  {
   "cell_type": "code",
   "execution_count": 141,
   "id": "52c63523",
   "metadata": {},
   "outputs": [],
   "source": [
    "url = get_db_url('employees')"
   ]
  },
  {
   "cell_type": "code",
   "execution_count": 143,
   "id": "a7cb62d6",
   "metadata": {},
   "outputs": [],
   "source": [
    "df = pd.read_sql(\"\"\"SELECT\n",
    "    DATEDIFF((SELECT MAX(hire_date) \n",
    "    FROM employees), e.hire_date) AS tenure,\n",
    "    s.salary AS salary\n",
    "FROM employees e\n",
    "JOIN salaries s USING (emp_no)\n",
    "WHERE s.to_date > NOW()\n",
    "\"\"\", url)"
   ]
  },
  {
   "cell_type": "code",
   "execution_count": 144,
   "id": "3a0c5e79",
   "metadata": {},
   "outputs": [
    {
     "data": {
      "text/html": [
       "<div>\n",
       "<style scoped>\n",
       "    .dataframe tbody tr th:only-of-type {\n",
       "        vertical-align: middle;\n",
       "    }\n",
       "\n",
       "    .dataframe tbody tr th {\n",
       "        vertical-align: top;\n",
       "    }\n",
       "\n",
       "    .dataframe thead th {\n",
       "        text-align: right;\n",
       "    }\n",
       "</style>\n",
       "<table border=\"1\" class=\"dataframe\">\n",
       "  <thead>\n",
       "    <tr style=\"text-align: right;\">\n",
       "      <th></th>\n",
       "      <th>tenure</th>\n",
       "      <th>salary</th>\n",
       "    </tr>\n",
       "  </thead>\n",
       "  <tbody>\n",
       "    <tr>\n",
       "      <th>0</th>\n",
       "      <td>4964</td>\n",
       "      <td>88958</td>\n",
       "    </tr>\n",
       "    <tr>\n",
       "      <th>1</th>\n",
       "      <td>5181</td>\n",
       "      <td>72527</td>\n",
       "    </tr>\n",
       "    <tr>\n",
       "      <th>2</th>\n",
       "      <td>4901</td>\n",
       "      <td>43311</td>\n",
       "    </tr>\n",
       "    <tr>\n",
       "      <th>3</th>\n",
       "      <td>4806</td>\n",
       "      <td>74057</td>\n",
       "    </tr>\n",
       "    <tr>\n",
       "      <th>4</th>\n",
       "      <td>3790</td>\n",
       "      <td>94692</td>\n",
       "    </tr>\n",
       "    <tr>\n",
       "      <th>...</th>\n",
       "      <td>...</td>\n",
       "      <td>...</td>\n",
       "    </tr>\n",
       "    <tr>\n",
       "      <th>240119</th>\n",
       "      <td>2572</td>\n",
       "      <td>52868</td>\n",
       "    </tr>\n",
       "    <tr>\n",
       "      <th>240120</th>\n",
       "      <td>3410</td>\n",
       "      <td>69501</td>\n",
       "    </tr>\n",
       "    <tr>\n",
       "      <th>240121</th>\n",
       "      <td>5030</td>\n",
       "      <td>83441</td>\n",
       "    </tr>\n",
       "    <tr>\n",
       "      <th>240122</th>\n",
       "      <td>2298</td>\n",
       "      <td>55003</td>\n",
       "    </tr>\n",
       "    <tr>\n",
       "      <th>240123</th>\n",
       "      <td>789</td>\n",
       "      <td>77303</td>\n",
       "    </tr>\n",
       "  </tbody>\n",
       "</table>\n",
       "<p>240124 rows × 2 columns</p>\n",
       "</div>"
      ],
      "text/plain": [
       "        tenure  salary\n",
       "0         4964   88958\n",
       "1         5181   72527\n",
       "2         4901   43311\n",
       "3         4806   74057\n",
       "4         3790   94692\n",
       "...        ...     ...\n",
       "240119    2572   52868\n",
       "240120    3410   69501\n",
       "240121    5030   83441\n",
       "240122    2298   55003\n",
       "240123     789   77303\n",
       "\n",
       "[240124 rows x 2 columns]"
      ]
     },
     "execution_count": 144,
     "metadata": {},
     "output_type": "execute_result"
    }
   ],
   "source": [
    "df"
   ]
  },
  {
   "cell_type": "markdown",
   "id": "c6e786d8",
   "metadata": {},
   "source": [
    "H$_0$ : There is a no correlation with tenure and salary\n",
    "\n",
    "H$_a$ : There is a correlation with tenure and salary"
   ]
  },
  {
   "cell_type": "code",
   "execution_count": 145,
   "id": "519d983c",
   "metadata": {},
   "outputs": [],
   "source": [
    "r, p = stats.pearsonr(\n",
    "    df['tenure'],\n",
    "df['salary'])"
   ]
  },
  {
   "cell_type": "code",
   "execution_count": 146,
   "id": "943ae856",
   "metadata": {},
   "outputs": [
    {
     "data": {
      "text/plain": [
       "True"
      ]
     },
     "execution_count": 146,
     "metadata": {},
     "output_type": "execute_result"
    }
   ],
   "source": [
    "p < a"
   ]
  },
  {
   "cell_type": "code",
   "execution_count": 147,
   "id": "2fe205fc",
   "metadata": {},
   "outputs": [
    {
     "data": {
      "text/plain": [
       "0.3064625613186014"
      ]
     },
     "execution_count": 147,
     "metadata": {},
     "output_type": "execute_result"
    }
   ],
   "source": [
    "r"
   ]
  },
  {
   "cell_type": "markdown",
   "id": "e5442577",
   "metadata": {},
   "source": [
    "#### 4. Use the sleepstudy data.\n",
    "- Is there a relationship between days and reaction time?"
   ]
  },
  {
   "cell_type": "markdown",
   "id": "cf8d705f",
   "metadata": {},
   "source": [
    "H$_0$ : There is a no correlation with reaction and days\n",
    "\n",
    "H$_a$ : There is a correlation with reaction and days"
   ]
  },
  {
   "cell_type": "code",
   "execution_count": 82,
   "id": "9d109508",
   "metadata": {},
   "outputs": [
    {
     "data": {
      "text/html": [
       "<div>\n",
       "<style scoped>\n",
       "    .dataframe tbody tr th:only-of-type {\n",
       "        vertical-align: middle;\n",
       "    }\n",
       "\n",
       "    .dataframe tbody tr th {\n",
       "        vertical-align: top;\n",
       "    }\n",
       "\n",
       "    .dataframe thead th {\n",
       "        text-align: right;\n",
       "    }\n",
       "</style>\n",
       "<table border=\"1\" class=\"dataframe\">\n",
       "  <thead>\n",
       "    <tr style=\"text-align: right;\">\n",
       "      <th></th>\n",
       "      <th>Reaction</th>\n",
       "      <th>Days</th>\n",
       "      <th>Subject</th>\n",
       "    </tr>\n",
       "  </thead>\n",
       "  <tbody>\n",
       "    <tr>\n",
       "      <th>1</th>\n",
       "      <td>249.5600</td>\n",
       "      <td>0</td>\n",
       "      <td>308</td>\n",
       "    </tr>\n",
       "    <tr>\n",
       "      <th>2</th>\n",
       "      <td>258.7047</td>\n",
       "      <td>1</td>\n",
       "      <td>308</td>\n",
       "    </tr>\n",
       "    <tr>\n",
       "      <th>3</th>\n",
       "      <td>250.8006</td>\n",
       "      <td>2</td>\n",
       "      <td>308</td>\n",
       "    </tr>\n",
       "    <tr>\n",
       "      <th>4</th>\n",
       "      <td>321.4398</td>\n",
       "      <td>3</td>\n",
       "      <td>308</td>\n",
       "    </tr>\n",
       "    <tr>\n",
       "      <th>5</th>\n",
       "      <td>356.8519</td>\n",
       "      <td>4</td>\n",
       "      <td>308</td>\n",
       "    </tr>\n",
       "    <tr>\n",
       "      <th>...</th>\n",
       "      <td>...</td>\n",
       "      <td>...</td>\n",
       "      <td>...</td>\n",
       "    </tr>\n",
       "    <tr>\n",
       "      <th>176</th>\n",
       "      <td>329.6076</td>\n",
       "      <td>5</td>\n",
       "      <td>372</td>\n",
       "    </tr>\n",
       "    <tr>\n",
       "      <th>177</th>\n",
       "      <td>334.4818</td>\n",
       "      <td>6</td>\n",
       "      <td>372</td>\n",
       "    </tr>\n",
       "    <tr>\n",
       "      <th>178</th>\n",
       "      <td>343.2199</td>\n",
       "      <td>7</td>\n",
       "      <td>372</td>\n",
       "    </tr>\n",
       "    <tr>\n",
       "      <th>179</th>\n",
       "      <td>369.1417</td>\n",
       "      <td>8</td>\n",
       "      <td>372</td>\n",
       "    </tr>\n",
       "    <tr>\n",
       "      <th>180</th>\n",
       "      <td>364.1236</td>\n",
       "      <td>9</td>\n",
       "      <td>372</td>\n",
       "    </tr>\n",
       "  </tbody>\n",
       "</table>\n",
       "<p>180 rows × 3 columns</p>\n",
       "</div>"
      ],
      "text/plain": [
       "     Reaction  Days  Subject\n",
       "1    249.5600     0      308\n",
       "2    258.7047     1      308\n",
       "3    250.8006     2      308\n",
       "4    321.4398     3      308\n",
       "5    356.8519     4      308\n",
       "..        ...   ...      ...\n",
       "176  329.6076     5      372\n",
       "177  334.4818     6      372\n",
       "178  343.2199     7      372\n",
       "179  369.1417     8      372\n",
       "180  364.1236     9      372\n",
       "\n",
       "[180 rows x 3 columns]"
      ]
     },
     "execution_count": 82,
     "metadata": {},
     "output_type": "execute_result"
    }
   ],
   "source": [
    "sleep_study = data('sleepstudy')\n",
    "sleep_study\n"
   ]
  },
  {
   "cell_type": "code",
   "execution_count": 84,
   "id": "07999d8f",
   "metadata": {},
   "outputs": [],
   "source": [
    "days = sleep_study.Days\n",
    "r_time = sleep_study.Reaction"
   ]
  },
  {
   "cell_type": "code",
   "execution_count": 85,
   "id": "e48eb2d3",
   "metadata": {},
   "outputs": [],
   "source": [
    "r, p = stats.pearsonr(days, r_time)"
   ]
  },
  {
   "cell_type": "code",
   "execution_count": 86,
   "id": "ec87be87",
   "metadata": {},
   "outputs": [
    {
     "data": {
      "text/plain": [
       "True"
      ]
     },
     "execution_count": 86,
     "metadata": {},
     "output_type": "execute_result"
    }
   ],
   "source": [
    "p < a"
   ]
  },
  {
   "cell_type": "code",
   "execution_count": 87,
   "id": "21f44dd4",
   "metadata": {},
   "outputs": [
    {
     "data": {
      "text/plain": [
       "0.5352302262650255"
      ]
     },
     "execution_count": 87,
     "metadata": {},
     "output_type": "execute_result"
    }
   ],
   "source": [
    "r"
   ]
  },
  {
   "cell_type": "code",
   "execution_count": 89,
   "id": "4e1acb63",
   "metadata": {},
   "outputs": [
    {
     "data": {
      "image/png": "[encoded data removed]",
      "text/plain": [
       "<Figure size 640x480 with 1 Axes>"
      ]
     },
     "metadata": {},
     "output_type": "display_data"
    }
   ],
   "source": [
    "plt.scatter(days, r_time);"
   ]
  },
  {
   "cell_type": "code",
   "execution_count": 120,
   "id": "01387578",
   "metadata": {
    "scrolled": true
   },
   "outputs": [
    {
     "data": {
      "text/html": [
       "<div>\n",
       "<style scoped>\n",
       "    .dataframe tbody tr th:only-of-type {\n",
       "        vertical-align: middle;\n",
       "    }\n",
       "\n",
       "    .dataframe tbody tr th {\n",
       "        vertical-align: top;\n",
       "    }\n",
       "\n",
       "    .dataframe thead th {\n",
       "        text-align: right;\n",
       "    }\n",
       "</style>\n",
       "<table border=\"1\" class=\"dataframe\">\n",
       "  <thead>\n",
       "    <tr style=\"text-align: right;\">\n",
       "      <th></th>\n",
       "      <th>Reaction</th>\n",
       "      <th>Days</th>\n",
       "      <th>Subject</th>\n",
       "    </tr>\n",
       "  </thead>\n",
       "  <tbody>\n",
       "    <tr>\n",
       "      <th>Reaction</th>\n",
       "      <td>1.000000</td>\n",
       "      <td>5.352302e-01</td>\n",
       "      <td>1.828947e-01</td>\n",
       "    </tr>\n",
       "    <tr>\n",
       "      <th>Days</th>\n",
       "      <td>0.535230</td>\n",
       "      <td>1.000000e+00</td>\n",
       "      <td>3.499509e-16</td>\n",
       "    </tr>\n",
       "    <tr>\n",
       "      <th>Subject</th>\n",
       "      <td>0.182895</td>\n",
       "      <td>3.499509e-16</td>\n",
       "      <td>1.000000e+00</td>\n",
       "    </tr>\n",
       "  </tbody>\n",
       "</table>\n",
       "</div>"
      ],
      "text/plain": [
       "          Reaction          Days       Subject\n",
       "Reaction  1.000000  5.352302e-01  1.828947e-01\n",
       "Days      0.535230  1.000000e+00  3.499509e-16\n",
       "Subject   0.182895  3.499509e-16  1.000000e+00"
      ]
     },
     "execution_count": 120,
     "metadata": {},
     "output_type": "execute_result"
    }
   ],
   "source": [
    "sleep_study.corr()"
   ]
  },
  {
   "cell_type": "markdown",
   "id": "8302fc86",
   "metadata": {},
   "source": [
    "---------------------------------------------------------------------------------------------------------------"
   ]
  },
  {
   "cell_type": "markdown",
   "id": "aed0a4b7",
   "metadata": {},
   "source": [
    "## Exercise comparison groups"
   ]
  },
  {
   "cell_type": "markdown",
   "id": "85f67f14",
   "metadata": {},
   "source": [
    "#### 1. Answer with the type of stats test you would use (assume normal distribution):\n",
    "- Do students get better test grades if they have a rubber duck on their desk?\n",
    "- Does smoking affect when or not someone has lung cancer?\n",
    "- Is gender independent of a person’s blood type?\n",
    "- A farming company wants to know if a new fertilizer has improved crop yield or not\n",
    "- Does the length of time of the lecture correlate with a students grade?\n",
    "- Do people with dogs live in apartments more than people with cats?"
   ]
  },
  {
   "cell_type": "code",
   "execution_count": null,
   "id": "43b628aa",
   "metadata": {},
   "outputs": [],
   "source": [
    "## t-test"
   ]
  },
  {
   "cell_type": "code",
   "execution_count": null,
   "id": "0fd2943c",
   "metadata": {},
   "outputs": [],
   "source": [
    "## chi-Square"
   ]
  },
  {
   "cell_type": "code",
   "execution_count": null,
   "id": "4a4d03d2",
   "metadata": {},
   "outputs": [],
   "source": [
    "## Chi-Square"
   ]
  },
  {
   "cell_type": "code",
   "execution_count": null,
   "id": "608d2fb7",
   "metadata": {},
   "outputs": [],
   "source": [
    "## T-test"
   ]
  },
  {
   "cell_type": "code",
   "execution_count": null,
   "id": "f02eb123",
   "metadata": {},
   "outputs": [],
   "source": [
    "## Pearsons Correlation"
   ]
  },
  {
   "cell_type": "code",
   "execution_count": null,
   "id": "deb075d1",
   "metadata": {},
   "outputs": [],
   "source": [
    "# chi-Square"
   ]
  },
  {
   "cell_type": "code",
   "execution_count": null,
   "id": "e61fc2e2",
   "metadata": {},
   "outputs": [],
   "source": []
  },
  {
   "cell_type": "code",
   "execution_count": null,
   "id": "c392439b",
   "metadata": {},
   "outputs": [],
   "source": []
  },
  {
   "cell_type": "markdown",
   "id": "d583ddc9",
   "metadata": {},
   "source": [
    "#### 2. Use the following contingency table to help answer the question of whether using a macbook and being a codeup student are independent of each other."
   ]
  },
  {
   "cell_type": "code",
   "execution_count": 133,
   "id": "b9535148",
   "metadata": {},
   "outputs": [
    {
     "data": {
      "text/plain": [
       "(36.65264142122487,\n",
       " 1.4116760526193828e-09,\n",
       " 1,\n",
       " array([[34.5, 34.5],\n",
       "        [15.5, 15.5]]))"
      ]
     },
     "execution_count": 133,
     "metadata": {},
     "output_type": "execute_result"
    }
   ],
   "source": [
    "stats.chi2_contingency(([[49, 20],\n",
    "        [1, 30]])) "
   ]
  },
  {
   "cell_type": "code",
   "execution_count": null,
   "id": "d1eabd64",
   "metadata": {},
   "outputs": [],
   "source": []
  },
  {
   "cell_type": "code",
   "execution_count": null,
   "id": "febf90b2",
   "metadata": {},
   "outputs": [],
   "source": []
  },
  {
   "cell_type": "markdown",
   "id": "bf3b63ec",
   "metadata": {},
   "source": [
    "#### 3. Choose another 2 categorical variables from the mpg dataset and perform a \n",
    "c\n",
    "h\n",
    "i\n",
    "2\n",
    "contingency table test with them. Be sure to state your null and alternative hypotheses."
   ]
  },
  {
   "cell_type": "code",
   "execution_count": 135,
   "id": "5e04a45a",
   "metadata": {
    "scrolled": true
   },
   "outputs": [
    {
     "data": {
      "text/html": [
       "<div>\n",
       "<style scoped>\n",
       "    .dataframe tbody tr th:only-of-type {\n",
       "        vertical-align: middle;\n",
       "    }\n",
       "\n",
       "    .dataframe tbody tr th {\n",
       "        vertical-align: top;\n",
       "    }\n",
       "\n",
       "    .dataframe thead th {\n",
       "        text-align: right;\n",
       "    }\n",
       "</style>\n",
       "<table border=\"1\" class=\"dataframe\">\n",
       "  <thead>\n",
       "    <tr style=\"text-align: right;\">\n",
       "      <th></th>\n",
       "      <th>manufacturer</th>\n",
       "      <th>model</th>\n",
       "      <th>displ</th>\n",
       "      <th>year</th>\n",
       "      <th>cyl</th>\n",
       "      <th>trans</th>\n",
       "      <th>drv</th>\n",
       "      <th>cty</th>\n",
       "      <th>hwy</th>\n",
       "      <th>fl</th>\n",
       "      <th>class</th>\n",
       "    </tr>\n",
       "  </thead>\n",
       "  <tbody>\n",
       "    <tr>\n",
       "      <th>1</th>\n",
       "      <td>audi</td>\n",
       "      <td>a4</td>\n",
       "      <td>1.8</td>\n",
       "      <td>1999</td>\n",
       "      <td>4</td>\n",
       "      <td>auto(l5)</td>\n",
       "      <td>f</td>\n",
       "      <td>18</td>\n",
       "      <td>29</td>\n",
       "      <td>p</td>\n",
       "      <td>compact</td>\n",
       "    </tr>\n",
       "    <tr>\n",
       "      <th>2</th>\n",
       "      <td>audi</td>\n",
       "      <td>a4</td>\n",
       "      <td>1.8</td>\n",
       "      <td>1999</td>\n",
       "      <td>4</td>\n",
       "      <td>manual(m5)</td>\n",
       "      <td>f</td>\n",
       "      <td>21</td>\n",
       "      <td>29</td>\n",
       "      <td>p</td>\n",
       "      <td>compact</td>\n",
       "    </tr>\n",
       "    <tr>\n",
       "      <th>3</th>\n",
       "      <td>audi</td>\n",
       "      <td>a4</td>\n",
       "      <td>2.0</td>\n",
       "      <td>2008</td>\n",
       "      <td>4</td>\n",
       "      <td>manual(m6)</td>\n",
       "      <td>f</td>\n",
       "      <td>20</td>\n",
       "      <td>31</td>\n",
       "      <td>p</td>\n",
       "      <td>compact</td>\n",
       "    </tr>\n",
       "    <tr>\n",
       "      <th>4</th>\n",
       "      <td>audi</td>\n",
       "      <td>a4</td>\n",
       "      <td>2.0</td>\n",
       "      <td>2008</td>\n",
       "      <td>4</td>\n",
       "      <td>auto(av)</td>\n",
       "      <td>f</td>\n",
       "      <td>21</td>\n",
       "      <td>30</td>\n",
       "      <td>p</td>\n",
       "      <td>compact</td>\n",
       "    </tr>\n",
       "    <tr>\n",
       "      <th>5</th>\n",
       "      <td>audi</td>\n",
       "      <td>a4</td>\n",
       "      <td>2.8</td>\n",
       "      <td>1999</td>\n",
       "      <td>6</td>\n",
       "      <td>auto(l5)</td>\n",
       "      <td>f</td>\n",
       "      <td>16</td>\n",
       "      <td>26</td>\n",
       "      <td>p</td>\n",
       "      <td>compact</td>\n",
       "    </tr>\n",
       "    <tr>\n",
       "      <th>...</th>\n",
       "      <td>...</td>\n",
       "      <td>...</td>\n",
       "      <td>...</td>\n",
       "      <td>...</td>\n",
       "      <td>...</td>\n",
       "      <td>...</td>\n",
       "      <td>...</td>\n",
       "      <td>...</td>\n",
       "      <td>...</td>\n",
       "      <td>...</td>\n",
       "      <td>...</td>\n",
       "    </tr>\n",
       "    <tr>\n",
       "      <th>230</th>\n",
       "      <td>volkswagen</td>\n",
       "      <td>passat</td>\n",
       "      <td>2.0</td>\n",
       "      <td>2008</td>\n",
       "      <td>4</td>\n",
       "      <td>auto(s6)</td>\n",
       "      <td>f</td>\n",
       "      <td>19</td>\n",
       "      <td>28</td>\n",
       "      <td>p</td>\n",
       "      <td>midsize</td>\n",
       "    </tr>\n",
       "    <tr>\n",
       "      <th>231</th>\n",
       "      <td>volkswagen</td>\n",
       "      <td>passat</td>\n",
       "      <td>2.0</td>\n",
       "      <td>2008</td>\n",
       "      <td>4</td>\n",
       "      <td>manual(m6)</td>\n",
       "      <td>f</td>\n",
       "      <td>21</td>\n",
       "      <td>29</td>\n",
       "      <td>p</td>\n",
       "      <td>midsize</td>\n",
       "    </tr>\n",
       "    <tr>\n",
       "      <th>232</th>\n",
       "      <td>volkswagen</td>\n",
       "      <td>passat</td>\n",
       "      <td>2.8</td>\n",
       "      <td>1999</td>\n",
       "      <td>6</td>\n",
       "      <td>auto(l5)</td>\n",
       "      <td>f</td>\n",
       "      <td>16</td>\n",
       "      <td>26</td>\n",
       "      <td>p</td>\n",
       "      <td>midsize</td>\n",
       "    </tr>\n",
       "    <tr>\n",
       "      <th>233</th>\n",
       "      <td>volkswagen</td>\n",
       "      <td>passat</td>\n",
       "      <td>2.8</td>\n",
       "      <td>1999</td>\n",
       "      <td>6</td>\n",
       "      <td>manual(m5)</td>\n",
       "      <td>f</td>\n",
       "      <td>18</td>\n",
       "      <td>26</td>\n",
       "      <td>p</td>\n",
       "      <td>midsize</td>\n",
       "    </tr>\n",
       "    <tr>\n",
       "      <th>234</th>\n",
       "      <td>volkswagen</td>\n",
       "      <td>passat</td>\n",
       "      <td>3.6</td>\n",
       "      <td>2008</td>\n",
       "      <td>6</td>\n",
       "      <td>auto(s6)</td>\n",
       "      <td>f</td>\n",
       "      <td>17</td>\n",
       "      <td>26</td>\n",
       "      <td>p</td>\n",
       "      <td>midsize</td>\n",
       "    </tr>\n",
       "  </tbody>\n",
       "</table>\n",
       "<p>234 rows × 11 columns</p>\n",
       "</div>"
      ],
      "text/plain": [
       "    manufacturer   model  displ  year  cyl       trans drv  cty  hwy fl  \\\n",
       "1           audi      a4    1.8  1999    4    auto(l5)   f   18   29  p   \n",
       "2           audi      a4    1.8  1999    4  manual(m5)   f   21   29  p   \n",
       "3           audi      a4    2.0  2008    4  manual(m6)   f   20   31  p   \n",
       "4           audi      a4    2.0  2008    4    auto(av)   f   21   30  p   \n",
       "5           audi      a4    2.8  1999    6    auto(l5)   f   16   26  p   \n",
       "..           ...     ...    ...   ...  ...         ...  ..  ...  ... ..   \n",
       "230   volkswagen  passat    2.0  2008    4    auto(s6)   f   19   28  p   \n",
       "231   volkswagen  passat    2.0  2008    4  manual(m6)   f   21   29  p   \n",
       "232   volkswagen  passat    2.8  1999    6    auto(l5)   f   16   26  p   \n",
       "233   volkswagen  passat    2.8  1999    6  manual(m5)   f   18   26  p   \n",
       "234   volkswagen  passat    3.6  2008    6    auto(s6)   f   17   26  p   \n",
       "\n",
       "       class  \n",
       "1    compact  \n",
       "2    compact  \n",
       "3    compact  \n",
       "4    compact  \n",
       "5    compact  \n",
       "..       ...  \n",
       "230  midsize  \n",
       "231  midsize  \n",
       "232  midsize  \n",
       "233  midsize  \n",
       "234  midsize  \n",
       "\n",
       "[234 rows x 11 columns]"
      ]
     },
     "execution_count": 135,
     "metadata": {},
     "output_type": "execute_result"
    }
   ],
   "source": [
    "mpg = data('mpg')\n",
    "mpg"
   ]
  },
  {
   "cell_type": "markdown",
   "id": "c967dd94",
   "metadata": {},
   "source": [
    "### H$_0$ : manufacturer and class are dependent of each other\n",
    "\n",
    "### H$_a$ : manufacturer and class are independent of each other"
   ]
  },
  {
   "cell_type": "code",
   "execution_count": 137,
   "id": "1c7650b4",
   "metadata": {},
   "outputs": [],
   "source": [
    "observed = pd.crosstab(mpg['manufacturer'], mpg['class'])"
   ]
  },
  {
   "cell_type": "code",
   "execution_count": 138,
   "id": "5bed3a87",
   "metadata": {},
   "outputs": [
    {
     "data": {
      "text/plain": [
       "(464.37214690582,\n",
       " 5.267718408816259e-54,\n",
       " 84,\n",
       " array([[0.38461538, 3.61538462, 3.15384615, 0.84615385, 2.53846154,\n",
       "         2.69230769, 4.76923077],\n",
       "        [0.40598291, 3.81623932, 3.32905983, 0.89316239, 2.67948718,\n",
       "         2.84188034, 5.03418803],\n",
       "        [0.79059829, 7.43162393, 6.48290598, 1.73931624, 5.21794872,\n",
       "         5.53418803, 9.8034188 ],\n",
       "        [0.53418803, 5.02136752, 4.38034188, 1.17521368, 3.52564103,\n",
       "         3.73931624, 6.62393162],\n",
       "        [0.19230769, 1.80769231, 1.57692308, 0.42307692, 1.26923077,\n",
       "         1.34615385, 2.38461538],\n",
       "        [0.2991453 , 2.81196581, 2.45299145, 0.65811966, 1.97435897,\n",
       "         2.09401709, 3.70940171],\n",
       "        [0.17094017, 1.60683761, 1.4017094 , 0.37606838, 1.12820513,\n",
       "         1.1965812 , 2.11965812],\n",
       "        [0.08547009, 0.8034188 , 0.7008547 , 0.18803419, 0.56410256,\n",
       "         0.5982906 , 1.05982906],\n",
       "        [0.06410256, 0.6025641 , 0.52564103, 0.14102564, 0.42307692,\n",
       "         0.44871795, 0.79487179],\n",
       "        [0.08547009, 0.8034188 , 0.7008547 , 0.18803419, 0.56410256,\n",
       "         0.5982906 , 1.05982906],\n",
       "        [0.27777778, 2.61111111, 2.27777778, 0.61111111, 1.83333333,\n",
       "         1.94444444, 3.44444444],\n",
       "        [0.10683761, 1.0042735 , 0.87606838, 0.23504274, 0.70512821,\n",
       "         0.74786325, 1.32478632],\n",
       "        [0.2991453 , 2.81196581, 2.45299145, 0.65811966, 1.97435897,\n",
       "         2.09401709, 3.70940171],\n",
       "        [0.72649573, 6.82905983, 5.95726496, 1.5982906 , 4.79487179,\n",
       "         5.08547009, 9.00854701],\n",
       "        [0.57692308, 5.42307692, 4.73076923, 1.26923077, 3.80769231,\n",
       "         4.03846154, 7.15384615]]))"
      ]
     },
     "execution_count": 138,
     "metadata": {},
     "output_type": "execute_result"
    }
   ],
   "source": [
    "stats.chi2_contingency(observed) "
   ]
  },
  {
   "cell_type": "markdown",
   "id": "7899126b",
   "metadata": {},
   "source": [
    "#### 4. Use the data from the employees database to answer these questions:\n",
    "- Is an employee's gender independent of whether an employee works in sales or marketing? (only look at current employees)\n",
    "- Is an employee's gender independent of whether or not they are or have been a manager?\n"
   ]
  },
  {
   "cell_type": "code",
   "execution_count": 152,
   "id": "a75b86a2",
   "metadata": {},
   "outputs": [],
   "source": [
    "df = pd.read_sql(\"\"\"select emp_no, gender, dept_name from employees join dept_emp using (emp_no) \n",
    "        join departments\n",
    "        using (dept_no)\n",
    "        where to_date = '9999-01-01'\n",
    "        and dept_name in ('Marketing','Sales')\"\"\", url)\n",
    "        "
   ]
  },
  {
   "cell_type": "code",
   "execution_count": 153,
   "id": "df2d4010",
   "metadata": {},
   "outputs": [
    {
     "data": {
      "text/html": [
       "<div>\n",
       "<style scoped>\n",
       "    .dataframe tbody tr th:only-of-type {\n",
       "        vertical-align: middle;\n",
       "    }\n",
       "\n",
       "    .dataframe tbody tr th {\n",
       "        vertical-align: top;\n",
       "    }\n",
       "\n",
       "    .dataframe thead th {\n",
       "        text-align: right;\n",
       "    }\n",
       "</style>\n",
       "<table border=\"1\" class=\"dataframe\">\n",
       "  <thead>\n",
       "    <tr style=\"text-align: right;\">\n",
       "      <th></th>\n",
       "      <th>emp_no</th>\n",
       "      <th>gender</th>\n",
       "      <th>dept_name</th>\n",
       "    </tr>\n",
       "  </thead>\n",
       "  <tbody>\n",
       "    <tr>\n",
       "      <th>0</th>\n",
       "      <td>10017</td>\n",
       "      <td>F</td>\n",
       "      <td>Marketing</td>\n",
       "    </tr>\n",
       "    <tr>\n",
       "      <th>1</th>\n",
       "      <td>10058</td>\n",
       "      <td>M</td>\n",
       "      <td>Marketing</td>\n",
       "    </tr>\n",
       "    <tr>\n",
       "      <th>2</th>\n",
       "      <td>10140</td>\n",
       "      <td>F</td>\n",
       "      <td>Marketing</td>\n",
       "    </tr>\n",
       "    <tr>\n",
       "      <th>3</th>\n",
       "      <td>10228</td>\n",
       "      <td>F</td>\n",
       "      <td>Marketing</td>\n",
       "    </tr>\n",
       "    <tr>\n",
       "      <th>4</th>\n",
       "      <td>10239</td>\n",
       "      <td>F</td>\n",
       "      <td>Marketing</td>\n",
       "    </tr>\n",
       "  </tbody>\n",
       "</table>\n",
       "</div>"
      ],
      "text/plain": [
       "   emp_no gender  dept_name\n",
       "0   10017      F  Marketing\n",
       "1   10058      M  Marketing\n",
       "2   10140      F  Marketing\n",
       "3   10228      F  Marketing\n",
       "4   10239      F  Marketing"
      ]
     },
     "execution_count": 153,
     "metadata": {},
     "output_type": "execute_result"
    }
   ],
   "source": [
    "df.head()"
   ]
  },
  {
   "cell_type": "code",
   "execution_count": 155,
   "id": "1c3a79ab",
   "metadata": {},
   "outputs": [],
   "source": [
    "observed = pd.crosstab(df.gender, df.dept_name)"
   ]
  },
  {
   "cell_type": "markdown",
   "id": "e2f27daf",
   "metadata": {},
   "source": [
    "H 0 : gender is dependent of wether in sales or marketing\n",
    "\n",
    "H 𝑎 : gender is independent of wether in sales or marketing"
   ]
  },
  {
   "cell_type": "code",
   "execution_count": 156,
   "id": "b9dc22b7",
   "metadata": {},
   "outputs": [
    {
     "data": {
      "text/plain": [
       "(0.3240332004060638,\n",
       " 0.5691938610810126,\n",
       " 1,\n",
       " array([[ 5893.2426013, 14969.7573987],\n",
       "        [ 8948.7573987, 22731.2426013]]))"
      ]
     },
     "execution_count": 156,
     "metadata": {},
     "output_type": "execute_result"
    }
   ],
   "source": [
    "stats.chi2_contingency(observed) "
   ]
  },
  {
   "cell_type": "code",
   "execution_count": 157,
   "id": "2bbc0986",
   "metadata": {},
   "outputs": [
    {
     "data": {
      "text/plain": [
       "True"
      ]
     },
     "execution_count": 157,
     "metadata": {},
     "output_type": "execute_result"
    }
   ],
   "source": [
    "p < a"
   ]
  },
  {
   "cell_type": "code",
   "execution_count": 158,
   "id": "0f86d011",
   "metadata": {},
   "outputs": [
    {
     "data": {
      "text/plain": [
       "0.3064625613186014"
      ]
     },
     "execution_count": 158,
     "metadata": {},
     "output_type": "execute_result"
    }
   ],
   "source": [
    "r"
   ]
  },
  {
   "cell_type": "code",
   "execution_count": 161,
   "id": "4fb3354a",
   "metadata": {},
   "outputs": [],
   "source": [
    "df = pd.read_sql(\"\"\"\n",
    "    select emp_no, gender, dept_no\n",
    "        from employees\n",
    "            left join dept_manager\n",
    "                using (emp_no)\n",
    "\"\"\", url)"
   ]
  },
  {
   "cell_type": "code",
   "execution_count": 162,
   "id": "7e5793c5",
   "metadata": {},
   "outputs": [
    {
     "data": {
      "text/html": [
       "<div>\n",
       "<style scoped>\n",
       "    .dataframe tbody tr th:only-of-type {\n",
       "        vertical-align: middle;\n",
       "    }\n",
       "\n",
       "    .dataframe tbody tr th {\n",
       "        vertical-align: top;\n",
       "    }\n",
       "\n",
       "    .dataframe thead th {\n",
       "        text-align: right;\n",
       "    }\n",
       "</style>\n",
       "<table border=\"1\" class=\"dataframe\">\n",
       "  <thead>\n",
       "    <tr style=\"text-align: right;\">\n",
       "      <th></th>\n",
       "      <th>emp_no</th>\n",
       "      <th>gender</th>\n",
       "      <th>dept_no</th>\n",
       "    </tr>\n",
       "  </thead>\n",
       "  <tbody>\n",
       "    <tr>\n",
       "      <th>0</th>\n",
       "      <td>10001</td>\n",
       "      <td>M</td>\n",
       "      <td>None</td>\n",
       "    </tr>\n",
       "    <tr>\n",
       "      <th>1</th>\n",
       "      <td>10002</td>\n",
       "      <td>F</td>\n",
       "      <td>None</td>\n",
       "    </tr>\n",
       "    <tr>\n",
       "      <th>2</th>\n",
       "      <td>10003</td>\n",
       "      <td>M</td>\n",
       "      <td>None</td>\n",
       "    </tr>\n",
       "    <tr>\n",
       "      <th>3</th>\n",
       "      <td>10004</td>\n",
       "      <td>M</td>\n",
       "      <td>None</td>\n",
       "    </tr>\n",
       "    <tr>\n",
       "      <th>4</th>\n",
       "      <td>10005</td>\n",
       "      <td>M</td>\n",
       "      <td>None</td>\n",
       "    </tr>\n",
       "  </tbody>\n",
       "</table>\n",
       "</div>"
      ],
      "text/plain": [
       "   emp_no gender dept_no\n",
       "0   10001      M    None\n",
       "1   10002      F    None\n",
       "2   10003      M    None\n",
       "3   10004      M    None\n",
       "4   10005      M    None"
      ]
     },
     "execution_count": 162,
     "metadata": {},
     "output_type": "execute_result"
    }
   ],
   "source": [
    "df.head()"
   ]
  },
  {
   "cell_type": "markdown",
   "id": "f833187c",
   "metadata": {},
   "source": [
    "H 0 : employee's gender dependent of whether or not they are or have been a manager\n",
    "\n",
    "H 𝑎 : employee's gender independent of whether or not they are or have been a manager"
   ]
  },
  {
   "cell_type": "code",
   "execution_count": 165,
   "id": "d8d29a00",
   "metadata": {},
   "outputs": [],
   "source": [
    "observed = pd.crosstab(df.gender, df.dept_no)"
   ]
  },
  {
   "cell_type": "code",
   "execution_count": 166,
   "id": "e269cdf5",
   "metadata": {
    "scrolled": true
   },
   "outputs": [
    {
     "data": {
      "text/plain": [
       "(7.888111888111889,\n",
       " 0.4444754330422406,\n",
       " 8,\n",
       " array([[1.08333333, 1.08333333, 1.08333333, 2.16666667, 1.08333333,\n",
       "         2.16666667, 1.08333333, 1.08333333, 2.16666667],\n",
       "        [0.91666667, 0.91666667, 0.91666667, 1.83333333, 0.91666667,\n",
       "         1.83333333, 0.91666667, 0.91666667, 1.83333333]]))"
      ]
     },
     "execution_count": 166,
     "metadata": {},
     "output_type": "execute_result"
    }
   ],
   "source": [
    "stats.chi2_contingency(observed) "
   ]
  },
  {
   "cell_type": "code",
   "execution_count": null,
   "id": "3b8a3961",
   "metadata": {},
   "outputs": [],
   "source": [
    "p <a"
   ]
  },
  {
   "cell_type": "code",
   "execution_count": null,
   "id": "e0dac340",
   "metadata": {},
   "outputs": [],
   "source": []
  }
 ],
 "metadata": {
  "kernelspec": {
   "display_name": "Python 3 (ipykernel)",
   "language": "python",
   "name": "python3"
  },
  "language_info": {
   "codemirror_mode": {
    "name": "ipython",
    "version": 3
   },
   "file_extension": ".py",
   "mimetype": "text/x-python",
   "name": "python",
   "nbconvert_exporter": "python",
   "pygments_lexer": "ipython3",
   "version": "3.9.13"
  }
 },
 "nbformat": 4,
 "nbformat_minor": 5
}

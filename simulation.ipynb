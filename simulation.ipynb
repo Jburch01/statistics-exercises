{
 "cells": [
  {
   "cell_type": "markdown",
   "id": "fa57298a",
   "metadata": {},
   "source": [
    "# Exercise\n"
   ]
  },
  {
   "cell_type": "code",
   "execution_count": 8,
   "id": "53515345",
   "metadata": {},
   "outputs": [],
   "source": [
    "import numpy as np\n",
    "import pandas as pd\n",
    "\n"
   ]
  },
  {
   "cell_type": "markdown",
   "id": "95d2a184",
   "metadata": {},
   "source": [
    " ### 1.  How likely is it that you roll doubles when rolling two dice?"
   ]
  },
  {
   "cell_type": "code",
   "execution_count": 14,
   "id": "6aed9e2b",
   "metadata": {},
   "outputs": [],
   "source": [
    "n_dice = 2\n",
    "n_column = 2"
   ]
  },
  {
   "cell_type": "code",
   "execution_count": 34,
   "id": "811880f8",
   "metadata": {},
   "outputs": [],
   "source": [
    "n_trials = 10000\n",
    "n_rows = 10000"
   ]
  },
  {
   "cell_type": "code",
   "execution_count": 35,
   "id": "2b6164e3",
   "metadata": {},
   "outputs": [],
   "source": [
    "rolls = np.random.choice([1, 2, 3, 4, 5, 6], n_trials * n_dice).reshape(n_rows, n_column)"
   ]
  },
  {
   "cell_type": "code",
   "execution_count": 36,
   "id": "cdb5f2dc",
   "metadata": {},
   "outputs": [
    {
     "data": {
      "text/plain": [
       "array([[6, 4],\n",
       "       [2, 4],\n",
       "       [6, 2],\n",
       "       ...,\n",
       "       [5, 2],\n",
       "       [4, 1],\n",
       "       [1, 5]])"
      ]
     },
     "execution_count": 36,
     "metadata": {},
     "output_type": "execute_result"
    }
   ],
   "source": [
    "rolls"
   ]
  },
  {
   "cell_type": "code",
   "execution_count": 37,
   "id": "baa9ca3e",
   "metadata": {},
   "outputs": [],
   "source": [
    "df = pd.DataFrame(rolls)"
   ]
  },
  {
   "cell_type": "code",
   "execution_count": 38,
   "id": "8ca0b965",
   "metadata": {},
   "outputs": [],
   "source": [
    "successes = df[0] == df[1]"
   ]
  },
  {
   "cell_type": "code",
   "execution_count": 39,
   "id": "0750a909",
   "metadata": {},
   "outputs": [
    {
     "data": {
      "text/plain": [
       "0.1658"
      ]
     },
     "execution_count": 39,
     "metadata": {},
     "output_type": "execute_result"
    }
   ],
   "source": [
    "successes.mean()"
   ]
  },
  {
   "cell_type": "markdown",
   "id": "81a6ccad",
   "metadata": {},
   "source": [
    "###  2. If you flip 8 coins, what is the probability of getting exactly 3 heads? What is the probability of getting more than 3 heads?"
   ]
  },
  {
   "cell_type": "code",
   "execution_count": 40,
   "id": "6bd322fc",
   "metadata": {},
   "outputs": [],
   "source": [
    "n_coins = 8"
   ]
  },
  {
   "cell_type": "code",
   "execution_count": 41,
   "id": "0e6d5bba",
   "metadata": {},
   "outputs": [],
   "source": [
    "n_column = 8"
   ]
  },
  {
   "cell_type": "code",
   "execution_count": 46,
   "id": "90728b8f",
   "metadata": {},
   "outputs": [],
   "source": [
    "flips = np.random.choice([\"H\", \"T\"], n_trials * n_coins).reshape(n_rows, n_column)"
   ]
  },
  {
   "cell_type": "code",
   "execution_count": 47,
   "id": "1cc2c6ff",
   "metadata": {},
   "outputs": [],
   "source": [
    "df = pd.DataFrame(flips)"
   ]
  },
  {
   "cell_type": "code",
   "execution_count": 50,
   "id": "8fe4596c",
   "metadata": {},
   "outputs": [],
   "source": [
    "succeses = df == 'H'"
   ]
  },
  {
   "cell_type": "code",
   "execution_count": 58,
   "id": "463f15ee",
   "metadata": {},
   "outputs": [
    {
     "data": {
      "text/plain": [
       "0.2209"
      ]
     },
     "execution_count": 58,
     "metadata": {},
     "output_type": "execute_result"
    }
   ],
   "source": [
    "(succeses.sum(axis=1) == 3).mean()"
   ]
  },
  {
   "cell_type": "code",
   "execution_count": 59,
   "id": "741802b3",
   "metadata": {},
   "outputs": [
    {
     "data": {
      "text/plain": [
       "0.637"
      ]
     },
     "execution_count": 59,
     "metadata": {},
     "output_type": "execute_result"
    }
   ],
   "source": [
    "(succeses.sum(axis=1) > 3).mean()"
   ]
  },
  {
   "cell_type": "markdown",
   "id": "aacf3086",
   "metadata": {},
   "source": [
    "### 3. There are approximitely 3 web development cohorts for every 1 data science cohort at Codeup. Assuming that Codeup randomly selects an alumni to put on a billboard, what are the odds that the two billboards I drive past both have data science students on them?\n",
    "\n"
   ]
  },
  {
   "cell_type": "code",
   "execution_count": 62,
   "id": "d8679c7f",
   "metadata": {},
   "outputs": [],
   "source": [
    "\n",
    "n_column = 2"
   ]
  },
  {
   "cell_type": "code",
   "execution_count": 73,
   "id": "d07266f9",
   "metadata": {},
   "outputs": [
    {
     "data": {
      "text/plain": [
       "0.059"
      ]
     },
     "execution_count": 73,
     "metadata": {},
     "output_type": "execute_result"
    }
   ],
   "source": [
    "((np.random.random([n_rows, n_column]) <= 0.25).sum(axis=1) == 2).mean()"
   ]
  },
  {
   "cell_type": "markdown",
   "id": "fae39ae6",
   "metadata": {},
   "source": [
    "### 4. Codeup students buy, on average, 3 poptart packages with a standard deviation of 1.5 a day from the snack vending machine. If on monday the machine is restocked with 17 poptart packages, how likely is it that I will be able to buy some poptarts on Friday afternoon? (Remember, if you have mean and standard deviation, use the np.random.normal) You'll need to make a judgement call on how to handle some of your values"
   ]
  },
  {
   "cell_type": "code",
   "execution_count": 95,
   "id": "a7f36eb4",
   "metadata": {},
   "outputs": [
    {
     "data": {
      "text/plain": [
       "0.7286"
      ]
     },
     "execution_count": 95,
     "metadata": {},
     "output_type": "execute_result"
    }
   ],
   "source": [
    "(np.random.normal(3, 1.5, size = [10000, 5]).sum(axis=1) <= 17).mean()"
   ]
  },
  {
   "cell_type": "markdown",
   "id": "42dddfdf",
   "metadata": {},
   "source": [
    "5. Compare Heights\n",
    "\n",
    "- Men have an average height of 178 cm and standard deviation of 8cm.\n",
    "- Women have a mean of 170, sd = 6cm.\n",
    "- Since you have means and standard deviations, you can use np.random.normal to generate observations.\n",
    "- If a man and woman are chosen at random, what is the likelihood the woman is taller than the man?\n",
    "\n"
   ]
  },
  {
   "cell_type": "code",
   "execution_count": 99,
   "id": "996be238",
   "metadata": {},
   "outputs": [
    {
     "data": {
      "text/plain": [
       "array([[188.30370534],\n",
       "       [193.82475421],\n",
       "       [190.94341179],\n",
       "       ...,\n",
       "       [192.17072648],\n",
       "       [177.79245747],\n",
       "       [162.98374903]])"
      ]
     },
     "execution_count": 99,
     "metadata": {},
     "output_type": "execute_result"
    }
   ],
   "source": [
    "bro_bro = np.random.normal(178, 8, size=[10000, 1])\n",
    "bro_bro"
   ]
  },
  {
   "cell_type": "code",
   "execution_count": 101,
   "id": "15fb2a58",
   "metadata": {},
   "outputs": [
    {
     "data": {
      "text/plain": [
       "array([[167.43145917],\n",
       "       [163.44143529],\n",
       "       [161.98690285],\n",
       "       ...,\n",
       "       [175.74701184],\n",
       "       [169.94424127],\n",
       "       [159.66148164]])"
      ]
     },
     "execution_count": 101,
     "metadata": {},
     "output_type": "execute_result"
    }
   ],
   "source": [
    "gamer_grils = np.random.normal(170, 6, size=[10000, 1])\n",
    "gamer_grils"
   ]
  },
  {
   "cell_type": "code",
   "execution_count": 105,
   "id": "10a4b122",
   "metadata": {},
   "outputs": [
    {
     "data": {
      "text/plain": [
       "0.2096"
      ]
     },
     "execution_count": 105,
     "metadata": {},
     "output_type": "execute_result"
    }
   ],
   "source": [
    "(bro_bro < gamer_grils).mean()"
   ]
  },
  {
   "cell_type": "markdown",
   "id": "21ad2907",
   "metadata": {},
   "source": [
    "### 6. When installing anaconda on a student's computer, there's a 1 in 250 chance that the download is corrupted and the installation fails. What are the odds that after having 50 students download anaconda, no one has an installation issue? 100 students?\n",
    "\n",
    "What is the probability that we observe an installation issue within the first 150 students that download anaconda?\n",
    "\n"
   ]
  },
  {
   "cell_type": "code",
   "execution_count": 127,
   "id": "827eed4c",
   "metadata": {},
   "outputs": [
    {
     "data": {
      "text/plain": [
       "0.8186"
      ]
     },
     "execution_count": 127,
     "metadata": {},
     "output_type": "execute_result"
    }
   ],
   "source": [
    "df = pd.DataFrame(np.random.random([10000, 50]) > (1/250))\n",
    "(df.sum(axis=1) == 50).mean()"
   ]
  },
  {
   "cell_type": "code",
   "execution_count": 129,
   "id": "5ad0c8bb",
   "metadata": {},
   "outputs": [
    {
     "data": {
      "text/plain": [
       "0.6631"
      ]
     },
     "execution_count": 129,
     "metadata": {},
     "output_type": "execute_result"
    }
   ],
   "source": [
    "a = pd.DataFrame(np.random.random([10000, 100]) > (1/250))\n",
    "(a.sum(axis=1) == 100).mean()"
   ]
  },
  {
   "cell_type": "code",
   "execution_count": 133,
   "id": "4ae3678f",
   "metadata": {},
   "outputs": [
    {
     "data": {
      "text/plain": [
       "0.4526"
      ]
     },
     "execution_count": 133,
     "metadata": {},
     "output_type": "execute_result"
    }
   ],
   "source": [
    "(pd.DataFrame(np.random.random([10000, 150]) > (1/250)).sum(axis=1) != 150).mean()"
   ]
  },
  {
   "cell_type": "markdown",
   "id": "bef16602",
   "metadata": {},
   "source": [
    "### 7. There's a 70% chance on any given day that there will be at least one food truck at Travis Park. However, you haven't seen a food truck there in 3 days. How unlikely is this?\n",
    "\n",
    "#### How likely is it that a food truck will show up sometime this week?\n",
    "\n"
   ]
  },
  {
   "cell_type": "code",
   "execution_count": 141,
   "id": "225effa7",
   "metadata": {},
   "outputs": [
    {
     "data": {
      "text/plain": [
       "0.025"
      ]
     },
     "execution_count": 141,
     "metadata": {},
     "output_type": "execute_result"
    }
   ],
   "source": [
    "((np.random.random([10000, 3]) < 0.7).sum(axis=1) == 0).mean()"
   ]
  },
  {
   "cell_type": "markdown",
   "id": "0ecac71b",
   "metadata": {},
   "source": [
    "#### 8. If 23 people are in the same room, what are the odds that two of them share a birthday? What if it's 20 people? 40?"
   ]
  },
  {
   "cell_type": "code",
   "execution_count": 186,
   "id": "b33d45f0",
   "metadata": {},
   "outputs": [],
   "source": [
    "df = pd.DataFrame(np.random.randint(1, 366, size=[10000, 23]))"
   ]
  },
  {
   "cell_type": "code",
   "execution_count": 191,
   "id": "e0e22de4",
   "metadata": {},
   "outputs": [
    {
     "data": {
      "text/plain": [
       "0.5009"
      ]
     },
     "execution_count": 191,
     "metadata": {},
     "output_type": "execute_result"
    }
   ],
   "source": [
    "(df.nunique(axis=1) != 23).mean()"
   ]
  },
  {
   "cell_type": "code",
   "execution_count": 192,
   "id": "005d2eed",
   "metadata": {},
   "outputs": [],
   "source": [
    "df = pd.DataFrame(np.random.randint(1, 366, size=[10000, 20]))"
   ]
  },
  {
   "cell_type": "code",
   "execution_count": 193,
   "id": "b53b48b3",
   "metadata": {},
   "outputs": [
    {
     "data": {
      "text/plain": [
       "0.408"
      ]
     },
     "execution_count": 193,
     "metadata": {},
     "output_type": "execute_result"
    }
   ],
   "source": [
    "(df.nunique(axis=1) != 20).mean()"
   ]
  },
  {
   "cell_type": "code",
   "execution_count": 194,
   "id": "4ef2b436",
   "metadata": {},
   "outputs": [],
   "source": [
    "df = pd.DataFrame(np.random.randint(1, 366, size=[10000, 40]))"
   ]
  },
  {
   "cell_type": "code",
   "execution_count": 195,
   "id": "40230cd3",
   "metadata": {},
   "outputs": [
    {
     "data": {
      "text/plain": [
       "0.8941"
      ]
     },
     "execution_count": 195,
     "metadata": {},
     "output_type": "execute_result"
    }
   ],
   "source": [
    "(df.nunique(axis=1) != 40).mean()"
   ]
  },
  {
   "cell_type": "code",
   "execution_count": null,
   "id": "4e3cd2be",
   "metadata": {},
   "outputs": [],
   "source": []
  },
  {
   "cell_type": "code",
   "execution_count": null,
   "id": "db649590",
   "metadata": {},
   "outputs": [],
   "source": []
  },
  {
   "cell_type": "code",
   "execution_count": null,
   "id": "106db63b",
   "metadata": {},
   "outputs": [],
   "source": []
  },
  {
   "cell_type": "code",
   "execution_count": null,
   "id": "5921a552",
   "metadata": {},
   "outputs": [],
   "source": []
  }
 ],
 "metadata": {
  "kernelspec": {
   "display_name": "Python 3 (ipykernel)",
   "language": "python",
   "name": "python3"
  },
  "language_info": {
   "codemirror_mode": {
    "name": "ipython",
    "version": 3
   },
   "file_extension": ".py",
   "mimetype": "text/x-python",
   "name": "python",
   "nbconvert_exporter": "python",
   "pygments_lexer": "ipython3",
   "version": "3.9.13"
  }
 },
 "nbformat": 4,
 "nbformat_minor": 5
}
